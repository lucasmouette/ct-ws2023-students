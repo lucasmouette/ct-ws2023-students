{
 "cells": [
  {
   "cell_type": "code",
   "execution_count": null,
   "metadata": {
    "deletable": false,
    "editable": false
   },
   "outputs": [],
   "source": [
    "# Initialize Otter\n",
    "import otter\n",
    "grader = otter.Notebook(\"05_kontrollstrukturen.ipynb\")"
   ]
  },
  {
   "cell_type": "markdown",
   "metadata": {},
   "source": [
    "# Computational Thinking WS2023/24\n",
    "\n",
    "## Kontrollstrukturen\n",
    "\n",
    "**Autoren:** \n",
    "+ Prof. Benedikt Dietrich"
   ]
  },
  {
   "cell_type": "markdown",
   "metadata": {},
   "source": [
    "## Ein Essensautomat für die Mensa"
   ]
  },
  {
   "cell_type": "markdown",
   "metadata": {},
   "source": [
    "In der folgenden Aufgabe soll eine Menü-Führung für den Mensa-Essensautomat \"DasKlingtJaLecker\" entwickelt werden. Das Menü soll als einfacher Text ausgegeben werden. Der Nutzer soll mit der Tastatur sein Essen zusammenstellen können.\n",
    "\n",
    "Die einzelnen Menüpunkte sind mit folgendem Text gegeben:\n",
    "\n",
    "```text\n",
    "    Bitte wählen Sie Ihre Vorspeise:\n",
    "    1) Suppe\n",
    "    2) keine Vorspeise\n",
    "\n",
    "    Bitte wählen Sie Ihr Hautspeise: \n",
    "    1) Fleischgericht\n",
    "    2) Fisch\n",
    "    3) Vegetarisch\n",
    "    4) kein Hauptgericht\n",
    "\n",
    "    Bitte wählen Sie Ihre Nachspeise:\n",
    "    1) Kekse\n",
    "    2) Pudding\n",
    "    3) keine Nachspeise\n",
    "```\n",
    "\n",
    "Am Ende soll eine Zusammenfassung der Bestellung in folgender Form ausgegeben werden:\n",
    "\n",
    "```text\n",
    "    Sie haben gewählt:\n",
    "\n",
    "    Vorspeise: keine Vorspeise\n",
    "    Hauptgericht: Fisch\n",
    "    Nachspeise: Kekse\n",
    "```\n",
    "\n",
    "Sollte ein Nutzer sowohl Vor-, Haupt- und Nachspeise gewählt haben, soll außerdem am Ende die folgende Nachricht ausgegeben werden:\n",
    "\n",
    "```text\n",
    "    Hunger ist der beste Koch!\n",
    "```\n",
    "\n",
    "Wählt ein Nutzer weder Vor-, Haupt- und Nachspeise, soll am am Ende die folgende Nachricht ausgegeben werden:\n",
    "\n",
    "```text\n",
    "    Sie haben wohl keinen Hunger. Vielleicht sehen wir uns später nochmal.\n",
    "```"
   ]
  },
  {
   "cell_type": "markdown",
   "metadata": {},
   "source": [
    "Mit Hilfe der Built-In Funktion `int()` können Sie den String in eine Zahl umwandeln, mit der Sie auch rechnen können: "
   ]
  },
  {
   "cell_type": "code",
   "execution_count": null,
   "metadata": {},
   "outputs": [],
   "source": [
    "alter_string = input(\"Bitte geben Sie Ihr Alter ein: \")\n",
    "alter_int = int(alter_string)\n",
    "print(f\"Sie sind {alter_int} Jahre jung.\")\n",
    "print(f\"Der Typ von alter ist: {type(alter_int)}\")"
   ]
  },
  {
   "cell_type": "markdown",
   "metadata": {},
   "source": [
    "### Einschub - Divide and Conquer\n",
    "\n",
    "Die oben beschriebenen Anforderungen an unseren Automaten klingen erst einmal komplex. Um eine komplexe Aufgabe in der Informatik zu lösen bedient man sich eines Ansatzes namens *Divide & Conquer*: Man teilt das große, scheinbar komplexe oder gar unlösbare Problem in mehrere kleinere Probleme, die sich für sich lösen lassen (divide). Die Kombination der Einzellösungen ergibt dann idealerweise die Lösung des Gesamtproblems (conquer)."
   ]
  },
  {
   "cell_type": "markdown",
   "metadata": {
    "deletable": false,
    "editable": false
   },
   "source": [
    "### Aufgabe 2\n",
    "\n",
    "Zerlegen Sie obige Anforderungen in mindestens drei Teilprobleme."
   ]
  },
  {
   "cell_type": "code",
   "execution_count": null,
   "metadata": {},
   "outputs": [],
   "source": [
    "# Meine Lösung\n",
    "\n",
    "'''\n",
    "1.  Die Anfrage für den Nutzer erstellen:\n",
    "      Bitte wählen Sie Ihre Vorspeise:\n",
    "    1) Suppe\n",
    "    2) keine Vorspeise\n",
    "\n",
    "    Bitte wählen Sie Ihr Hautspeise: \n",
    "    1) Fleischgericht\n",
    "    2) Fisch\n",
    "    3) Vegetarisch\n",
    "    4) kein Hauptgericht\n",
    "\n",
    "    Bitte wählen Sie Ihre Nachspeise:\n",
    "    1) Kekse\n",
    "    2) Pudding\n",
    "    3) keine Nachspeise\n",
    "\n",
    "2. Die Eingabe des Nutzers soll am Ende zusammengefasst werden: \n",
    "    Sie haben gewählt:\n",
    "    Vorspeise: \n",
    "    Hauptgericht: \n",
    "    Nachspeise: \n",
    "\n",
    "3. Wenn Nutzer alle drei conditions wählt soll: if condition\n",
    "    Hunger ist der beste Koch!\n",
    "\n",
    "4. Wenn Nutzer keins auswählt soll: if condition\n",
    "    Sie haben wohl keinen Hunger. Vielleicht sehen wir uns später nochmal.\n",
    "'''"
   ]
  },
  {
   "cell_type": "markdown",
   "metadata": {},
   "source": [
    "### Aufgabe 3\n",
    "\n",
    "Schreiben Sie ein Programm, welches den Nutzer auffordert 1, 2 oder 3 auszuwählen. Wenn der Nutzer eine falsche Eingabe tätigt (eine falsche Zahl), soll Ihr Programm eine Fehlermeldung ausgeben. Ansonsten soll ausgegeben werden:\n",
    "\n",
    "```text\n",
    "    Sie haben x) gewählt\n",
    "```\n",
    "\n",
    "wobei x natürlich durch den entsprechenden Buchstaben zu ersetzen ist."
   ]
  },
  {
   "cell_type": "code",
   "execution_count": null,
   "metadata": {
    "tags": []
   },
   "outputs": [],
   "source": [
    "..."
   ]
  },
  {
   "cell_type": "code",
   "execution_count": null,
   "metadata": {},
   "outputs": [],
   "source": [
    "# Meine Lösung\n",
    "\n",
    "user_answer = input('Bitte wählen Sie die Zahl 1, 2 oder 3')\n",
    "user_answer_int = int(user_answer)\n",
    "\n",
    "if user_answer_int == 1:\n",
    "    print('Sie haben a gewählt :)')\n",
    "    # print(f'Sie haben {user_answer_int} gewählt :)')\n",
    "elif  user_answer_int == 2:\n",
    "    print('Sie haben b gewählt :)') \n",
    "    # print(f'Sie haben {user_answer_int} gewählt :)')\n",
    "elif user_answer_int == 3:\n",
    "    print('Sie haben c gewählt') \n",
    "    # print(f'Sie haben {user_answer_int} gewählt :)')\n",
    "else: \n",
    "    print('Falsche Eingabe.')"
   ]
  },
  {
   "cell_type": "markdown",
   "metadata": {
    "deletable": false,
    "editable": false
   },
   "source": [
    "### Aufgabe 4\n",
    "\n",
    "Kopieren Sie den Code von oben in die nächste Zelle und ändern Sie den Code nun so ab, dass der Nutzer so lange aufgefordert wird auszuwählen, bis er eine gültige Zahl eingetippt hat. Gibt der Nutzer etwas anderes ein soll der Text\n",
    "\n",
    "```text\n",
    "    Falsche Eingabe.\n",
    "```\n",
    "\n",
    "ausgegeben werden und der Nutzer erneut aufgefordert werden, auszuwählen."
   ]
  },
  {
   "cell_type": "code",
   "execution_count": null,
   "metadata": {
    "tags": []
   },
   "outputs": [],
   "source": [
    "choice = None\n",
    "\n",
    "..."
   ]
  },
  {
   "cell_type": "code",
   "execution_count": null,
   "metadata": {},
   "outputs": [],
   "source": [
    "# Meine Lösung\n",
    "\n",
    "choice = None\n",
    "\n",
    "while choice is None: \n",
    "    user_answer = input('Bitte wählen Sie die Zahl 1, 2 oder 3')\n",
    "    user_answer_int = int(user_answer)\n",
    "    correct_answer = (user_answer_int == 1) or (user_answer_int == 2) or (user_answer_int == 3)\n",
    "\n",
    "    if correct_answer:\n",
    "        choice = user_answer_int\n",
    "        print(f'Sie haben {user_answer_int} gewählt :)')\n",
    "    else:\n",
    "        print('Falsche Eingabe')\n"
   ]
  },
  {
   "cell_type": "markdown",
   "metadata": {
    "deletable": false,
    "editable": false
   },
   "source": [
    "### Aufgabe 5\n",
    "\n",
    "Erstellen Sie nun ein Programm, das den Nutzer jeweils fragt, was er als Vor-, Haupt- und Nachspeise essen will. Sollte der Nutzer für einen der Punkte etwas ungültiges eingeben, soll er, wie in Aufgabe 4 gelöst, erneut aufgefordert werden, einen gültigen Menüpunkt auszuwählen.\n",
    "\n",
    "Verzichten Sie noch auf die Zusammenfassung der Bestellung."
   ]
  },
  {
   "cell_type": "code",
   "execution_count": null,
   "metadata": {
    "tags": []
   },
   "outputs": [],
   "source": [
    "..."
   ]
  },
  {
   "cell_type": "code",
   "execution_count": null,
   "metadata": {},
   "outputs": [],
   "source": [
    "# Meine Lösung\n",
    "\n",
    "vorspeisen = ['Suppe', 'keine Vorspeise']\n",
    "hauptspeisen = ['Fleischgericht', 'Fisch', 'Vegetarisch', 'keine Hauptspeise']\n",
    "nachspeisen = ['Kekse', 'Pudding', 'keine Nachspeise']\n",
    "\n",
    "print('Bitte wählen Sie Ihre Vorspeise: ')\n",
    "for vorspeise in vorspeisen:\n",
    "    print(vorspeise)\n",
    "user_vorspeise = input('Bitte wählen Sie Ihre Vorspeise: ')\n",
    "while vorspeise != True:\n",
    "    user_vorspeise = input('Bitte wählen Sie Ihre Vorspeise: ')  \n",
    "    vorspeise_int = int(user_vorspeise)\n",
    "    if (vorspeise_int >= 1) and (vorspeise_int <= 2):\n",
    "        vorspeise = True\n",
    "        print(f'Sie haben {vorspeise_int} gewählt :)\\n')\n",
    "    else:\n",
    "        print('Falsche Eingabe')\n",
    "\n",
    "print('Bitte wählen Sie Ihre Hauptspeise: ')\n",
    "for hauptspeise in hauptspeisen:\n",
    "    print(hauptspeise)\n",
    "user_hauptspeise = input('Bitte wählen Sie Ihre Hauptspeise: ')\n",
    "while hauptspeise != True:\n",
    "    user_hauptspeise = input('Bitte wählen Sie Ihre Hauptspeise: ')  \n",
    "    hauptspeise_int = int(user_hauptspeise)\n",
    "    if (hauptspeise_int >= 1) and (hauptspeise_int <=4):\n",
    "        hauptspeise = True\n",
    "        print(f'Sie haben {hauptspeise_int} gewählt :)\\n')\n",
    "    else:\n",
    "        print('Falsche Eingabe')    \n",
    "\n",
    "print('Bitte wählen Sie Ihre Nachspeise: ')\n",
    "for nachspeise in nachspeisen:\n",
    "    print(nachspeise)\n",
    "user_nachspeise = input('Bitte wählen Sie Ihre Nachspeise: ')\n",
    "while nachspeise != True: \n",
    "    user_nachspeise = input('Bitte wählen Sie Ihre Nachspeise: ')\n",
    "    nachspeise_int = int(user_nachspeise)\n",
    "    if (nachspeise_int >= 1) and (nachspeise_int <=3):\n",
    "        nachspeise = True\n",
    "        print(f'Sie haben {hauptspeise_int} gewählt :)\\n')\n",
    "    else:\n",
    "        print('Falsche Eingabe')              \n"
   ]
  },
  {
   "cell_type": "markdown",
   "metadata": {},
   "source": [
    "### Einschub - Listen in der for-Schleife\n",
    "\n",
    "Wir werden Listen noch im Detail behandeln. Hier sollen Sie Listen aber schon einmal \"ausprobieren\". \n",
    "\n",
    "Folgendes Code-Beispiel zeigt, wie man Listen von Strings in Kombination mit `for`-Schleifen effizient verwenden kann:"
   ]
  },
  {
   "cell_type": "code",
   "execution_count": null,
   "metadata": {},
   "outputs": [],
   "source": [
    "vorspeisen = [\"Suppe\", \"keine Vorspeise\"]\n",
    "for index, vorspeise in enumerate(vorspeisen):\n",
    "    print(f\"{index + 1}) {vorspeise}\")"
   ]
  },
  {
   "cell_type": "markdown",
   "metadata": {
    "deletable": false,
    "editable": false
   },
   "source": [
    "### Aufgabe 6\n",
    "\n",
    "Kopieren Sie Ihr Programm von oben in eine Zelle und vereinfachen Sie Ihr Programm mit Hilfe des im \"Einschub - Listen in der for-Schleife\" gegebenen Source Codes. Wenden Sie dies auch für Haupt- und Nachspeise an."
   ]
  },
  {
   "cell_type": "code",
   "execution_count": null,
   "metadata": {
    "tags": []
   },
   "outputs": [],
   "source": [
    "..."
   ]
  },
  {
   "cell_type": "code",
   "execution_count": null,
   "metadata": {},
   "outputs": [],
   "source": [
    "# Meine Lösung\n",
    "\n",
    "vorspeisen = ['Suppe', 'keine Vorspeise']\n",
    "hauptspeisen = ['Fleischgericht', 'Fisch', 'Vegetarisch', 'keine Hauptspeise']\n",
    "nachspeisen = ['Kekse', 'Pudding', 'keine Nachspeise']\n",
    "\n",
    "for index, vorspeise in enumerate(vorspeisen):\n",
    "    print(f'{index + 1}) {vorspeise}')\n",
    "while vorspeise != True:\n",
    "    user_vorspeise = input('Bitte wählen Sie Ihre Vorspeise: ')  \n",
    "    vorspeise_int = int(user_vorspeise)\n",
    "    if (vorspeise_int >= 1) and (vorspeise_int <= 2):\n",
    "        vorspeise = True\n",
    "        print(f'Sie haben {vorspeise_int} gewählt :)\\n')\n",
    "    else:\n",
    "        print('Falsche Eingabe')\n",
    "\n",
    "for index, hauptspeise in enumerate(hauptspeisen):\n",
    "    print(f'{index + 1}) {hauptspeise}')\n",
    "while hauptspeise != True:\n",
    "    user_hauptspeise = input('Bitte wählen Sie Ihre Hauptspeise: ')  \n",
    "    hauptspeise_int = int(user_hauptspeise)\n",
    "    if (hauptspeise_int >= 1) and (hauptspeise_int <=4):\n",
    "        hauptspeise = True\n",
    "        print(f'Sie haben {hauptspeise_int} gewählt :)\\n')\n",
    "    else:\n",
    "        print('Falsche Eingabe')    \n",
    "\n",
    "for index, nachspeise in enumerate(nachspeisen):\n",
    "    print(f'{index + 1}) {nachspeise}')\n",
    "while nachspeise != True: \n",
    "    user_nachspeise = input('Bitte wählen Sie Ihre Nachspeise: ')\n",
    "    nachspeise_int = int(user_nachspeise)\n",
    "    if (nachspeise_int >= 1) and (nachspeise_int <=3):\n",
    "        nachspeise = True\n",
    "        print(f'Sie haben {hauptspeise_int} gewählt :)\\n')\n",
    "    else:\n",
    "        print('Falsche Eingabe')\n"
   ]
  },
  {
   "cell_type": "markdown",
   "metadata": {
    "deletable": false,
    "editable": false
   },
   "source": [
    "### Aufgabe 7\n",
    "\n",
    "Erweitern Sie das Programm mit den besonderen Ausgaben:\n",
    "\n",
    "Sollte ein Nutzer sowohl Vor-, Haupt- und Nachspeise gewählt haben, soll außerdem am Ende die folgende Nachricht ausgegeben werden:\n",
    "\n",
    "```text\n",
    "    Hunger ist der beste Koch!\n",
    "```\n",
    "\n",
    "Wählt ein Nutzer weder Vor-, Haupt- und Nachspeise, soll am am Ende die folgende Nachricht ausgegeben werden:\n",
    "\n",
    "```text\n",
    "    Sie haben wohl keinen Hunger. Vielleicht sehen wir uns später nochmal.\n",
    "```"
   ]
  },
  {
   "cell_type": "code",
   "execution_count": null,
   "metadata": {
    "tags": []
   },
   "outputs": [],
   "source": [
    "\n",
    "..."
   ]
  },
  {
   "cell_type": "code",
   "execution_count": null,
   "metadata": {},
   "outputs": [],
   "source": [
    "# Meine Lösung\n",
    "\n",
    "vorspeisen = ['Suppe', 'keine Vorspeise']\n",
    "hauptspeisen = ['Fleischgericht', 'Fisch', 'Vegetarisch', 'keine Hauptspeise']\n",
    "nachspeisen = ['Kekse', 'Pudding', 'keine Nachspeise']\n",
    "\n",
    "for index, vorspeise in enumerate(vorspeisen):\n",
    "    print(f'{index + 1}) {vorspeise}')\n",
    "while vorspeise != True:\n",
    "    user_vorspeise = input('Bitte wählen Sie Ihre Vorspeise: ')  \n",
    "    vorspeise_int = int(user_vorspeise)\n",
    "    if (vorspeise_int >= 1) and (vorspeise_int <= 2):\n",
    "        vorspeise = True\n",
    "        print(f'Sie haben {vorspeise_int} gewählt :)\\n')\n",
    "    else:\n",
    "        print('Falsche Eingabe')\n",
    "\n",
    "for index, hauptspeise in enumerate(hauptspeisen):\n",
    "    print(f'{index + 1}) {hauptspeise}')\n",
    "while hauptspeise != True:\n",
    "    user_hauptspeise = input('Bitte wählen Sie Ihre Hauptspeise: ')  \n",
    "    hauptspeise_int = int(user_hauptspeise)\n",
    "    if (hauptspeise_int >= 1) and (hauptspeise_int <=4):\n",
    "        hauptspeise = True\n",
    "        print(f'Sie haben {hauptspeise_int} gewählt :)\\n')\n",
    "    else:\n",
    "        print('Falsche Eingabe')    \n",
    "\n",
    "for index, nachspeise in enumerate(nachspeisen):\n",
    "    print(f'{index + 1}) {nachspeise}')\n",
    "while nachspeise != True: \n",
    "    user_nachspeise = input('Bitte wählen Sie Ihre Nachspeise: ')\n",
    "    nachspeise_int = int(user_nachspeise)\n",
    "    if (nachspeise_int >= 1) and (nachspeise_int <=3):\n",
    "        nachspeise = True\n",
    "        print(f'Sie haben {hauptspeise_int} gewählt :)\\n')\n",
    "    else:\n",
    "        print('Falsche Eingabe')\n",
    "\n",
    "if (vorspeise_int == 1) and (hauptspeise_int in range(1, 4)) and (nachspeise_int in range(1, 3)):\n",
    "    print('Hunger ist der beste Koch!')\n",
    "elif (vorspeise_int == 2) and (hauptspeise_int == 4) and (nachspeise_int == 3):\n",
    "    print('Sie haben wohl keinen Hunger. Vielleicht sehen wir uns später nochmal.')\n",
    "else: \n",
    "    pass"
   ]
  },
  {
   "cell_type": "markdown",
   "metadata": {
    "deletable": false,
    "editable": false
   },
   "source": [
    "### Aufgabe 8\n",
    "\n",
    "Folgender Code liefert ein gesuchtes Element eines bestimmten Index zurück:"
   ]
  },
  {
   "cell_type": "code",
   "execution_count": null,
   "metadata": {
    "deletable": false,
    "editable": false
   },
   "outputs": [],
   "source": [
    "buchstaben = [\"a)\", \"b)\", \"c)\", \"d)\"]\n",
    "\n",
    "index = 2\n",
    "print(index)\n",
    "print(buchstaben[index]) # Wählt das index-te Element der Liste aus (Index beginnt bei 0!)"
   ]
  },
  {
   "cell_type": "markdown",
   "metadata": {
    "deletable": false,
    "editable": false
   },
   "source": [
    "Überlegen Sie sich, wie Sie dies für die Ausgabe der Zusammenfassung der Bestellung nutzen können und erweitern Sie den Source Code in einer neuen Zelle entsprechend."
   ]
  },
  {
   "cell_type": "code",
   "execution_count": null,
   "metadata": {
    "tags": []
   },
   "outputs": [],
   "source": [
    "..."
   ]
  },
  {
   "cell_type": "code",
   "execution_count": 1,
   "metadata": {},
   "outputs": [
    {
     "name": "stdout",
     "output_type": "stream",
     "text": [
      "Bitte wählen Sie Ihre Vorspeise: \n",
      "1) Suppe\n",
      "2) keine Vorspeise\n",
      "\n",
      "Bitte wählen Sie Ihre Hauptspeise: \n",
      "1) Fleischgericht\n",
      "2) Fisch\n",
      "3) Vegetarisch\n",
      "4) keine Hauptspeise\n",
      "\n",
      "Bitte wählen Sie Ihre Nachspeise: \n",
      "1) Kekse\n",
      "2) Pudding\n",
      "3) keine Nachspeise\n",
      "\n",
      "Sie haben gewählt:\n",
      "\n",
      "Vorspeise: Suppe\n",
      "Hauptspeise: Fleischgericht\n",
      "Nachspeise: Kekse\n",
      "\n",
      "Hunger ist der beste Koch!\n"
     ]
    }
   ],
   "source": [
    "# Meine Lösung\n",
    "\n",
    "vorspeisen = ['Suppe', 'keine Vorspeise']\n",
    "hauptspeisen = ['Fleischgericht', 'Fisch', 'Vegetarisch', 'keine Hauptspeise']\n",
    "nachspeisen = ['Kekse', 'Pudding', 'keine Nachspeise']\n",
    "\n",
    "# Vorspeise\n",
    "print('Bitte wählen Sie Ihre Vorspeise: ')\n",
    "for index, vorspeise in enumerate(vorspeisen):\n",
    "    print(f'{index + 1}) {vorspeise}')\n",
    "while vorspeise != True:\n",
    "    user_vorspeise = input('Bitte wählen Sie Ihre Vorspeise: ')  \n",
    "    vorspeise_int = int(user_vorspeise)\n",
    "    if vorspeise_int in range(1, len(vorspeisen)+1): # Meine Antwort war: if (vorspeise_int >= 1) and (vorspeise_int <= 2):\n",
    "        vorspeise = True\n",
    "    else:\n",
    "        print('Falsche Eingabe')\n",
    "print('')\n",
    "\n",
    "# Hauptspeise\n",
    "print('Bitte wählen Sie Ihre Hauptspeise: ')\n",
    "for index, hauptspeise in enumerate(hauptspeisen):\n",
    "    print(f'{index + 1}) {hauptspeise}')\n",
    "while hauptspeise != True:\n",
    "    user_hauptspeise = input('Bitte wählen Sie Ihre Hauptspeise: ')  \n",
    "    hauptspeise_int = int(user_hauptspeise)\n",
    "    if hauptspeise_int in range(1, len(hauptspeisen)+1): # Meine Antwort war: if (hauptspeise_int >= 1) and (hauptspeise_int <=4):\n",
    "        hauptspeise = True\n",
    "    else:\n",
    "        print('Falsche Eingabe')    \n",
    "print('')\n",
    "\n",
    "# Nachspeise\n",
    "print('Bitte wählen Sie Ihre Nachspeise: ')\n",
    "for index, nachspeise in enumerate(nachspeisen):\n",
    "    print(f'{index + 1}) {nachspeise}')\n",
    "while nachspeise != True: \n",
    "    user_nachspeise = input('Bitte wählen Sie Ihre Nachspeise: ')\n",
    "    nachspeise_int = int(user_nachspeise)\n",
    "    if nachspeise_int in range(1, len(nachspeisen)+1): # Meine Antwort war: if (nachspeise_int >= 1) and (nachspeise_int <=3):\n",
    "        nachspeise = True\n",
    "    else:\n",
    "        print('Falsche Eingabe')\n",
    "print('')\n",
    "\n",
    "index_vorspeise = (vorspeise_int - 1)\n",
    "index_hauptspeise = (hauptspeise_int - 1)\n",
    "index_nachspeise = (nachspeise_int - 1)\n",
    "\n",
    "print('Sie haben gewählt:\\n')\n",
    "print(f'Vorspeise: {vorspeisen[index_vorspeise]}')\n",
    "print(f'Hauptspeise: {hauptspeisen[index_hauptspeise]}')\n",
    "print(f'Nachspeise: {nachspeisen [index_nachspeise]}\\n')\n",
    "\n",
    "if (vorspeise_int == 1) and (hauptspeise_int in range(1, 4)) and (nachspeise_int in range(1, 3)):\n",
    "    print('Hunger ist der beste Koch!')\n",
    "elif (vorspeise_int == 2) and (hauptspeise_int == 4) and (nachspeise_int == 3):\n",
    "    print('Sie haben wohl keinen Hunger. Vielleicht sehen wir uns später nochmal.')\n",
    "else: \n",
    "    pass\n"
   ]
  },
  {
   "cell_type": "code",
   "execution_count": null,
   "metadata": {},
   "outputs": [],
   "source": [
    "# andere Möglichkeit die while Schleife zu lösen\n",
    "\n",
    "is_valid_input = False\n",
    "    while is_valid_input == False:\n",
    "    choice_vorspeise = int(input )\n",
    "    is_valid_input = choice_vorspeise == 1 or choice_vorspeise == 2\n",
    "    if is_valid_input == False:\n",
    "    print('Falsche Eingabe')"
   ]
  },
  {
   "cell_type": "code",
   "execution_count": null,
   "metadata": {},
   "outputs": [],
   "source": [
    "# if nachspeise_int in range(1, len(nachspeisen)+1):\n",
    "\n",
    "# hier kommt len+1 weil die range ja immer -1 zählt. Bsp. (1, 3) würde 1 und 2 ausgeben"
   ]
  },
  {
   "cell_type": "markdown",
   "metadata": {},
   "source": [
    "### Aufgabe 9\n",
    "\n",
    "Ein Problem kann in Software auf unzählige Arten und Weisen gelöst werden. Die verschiedenen Lösungen unterscheiden sich bezüglich der Qualität der Software. Klassische Software-Qualitätskriterien sind unter anderem\n",
    "\n",
    "* Erweiterbarkeit\n",
    "* Wartbarkeit\n",
    "* Lesbarkeit\n",
    "* Effizienz\n",
    "* Funktionalität\n",
    "* ...\n",
    "\n",
    "Ändern Sie den Mensaspeiseplan indem Sie ein Hauptgericht hinzufügen. Außerdem sind die Kekse aus, d.h. dieser Eintrag soll von Ihrem Programm entfernt werden. An welchen Stellen müssen Sie Änderungen durchführen? Wie beurteilen Sie Ihr Programm bezüglich Erweiterbarkeit? Haben Sie eine Idee, wie Sie die Anzahl an Stellen reduzieren könnten?"
   ]
  },
  {
   "cell_type": "code",
   "execution_count": null,
   "metadata": {},
   "outputs": [],
   "source": [
    "# Musterlösung\n",
    "\n",
    "# Eingangsdaten\n",
    "vorspeisen = ['Suppe', 'keine Vorspeise']\n",
    "hauptspeisen = ['Fleischgericht', 'Fisch', 'Vegetarisch', 'keine Hauptspeise']\n",
    "nachspeisen = ['Kekse', 'Pudding', 'keine Nachspeise']\n",
    "\n",
    "def print_choices(list_of_meals, course_name): # ab dem Moment wo ich möchte, dass eine Funktion sich unterschiedlich verhält, brauch ich Parametern!!\n",
    "    print(f'Bitte wählen Sie Ihre {course_name}:')\n",
    "    for index, meal in enumerate(list_of_meals):\n",
    "        print(f'{index + 1}) {meal}')\n",
    "\n",
    "# Parameter list_of_meals = hier steckt der Inhalt der jeweiligen Listen (Bsp. Suppe, keine Vorspeisen)\n",
    "# Parameter course_name = hier steckt vorspeisen, hauptspeisen, nachspeisen        \n",
    "\n",
    "def get_valid_user_input(number_of_valid_choices):\n",
    "    is_valid_input = False\n",
    "    while is_valid_input == False:\n",
    "        choice = int(input('Bitte wählen Sie: '))\n",
    "        is_valid_input = choice in range(1, number_of_valid_choices+1) # validate\n",
    "        if is_valid_input == False:\n",
    "            print('Falsche Eingabe')\n",
    "    return choice\n",
    "\n",
    "def choose_menu(menu, menu_name):\n",
    "    print_choices(menu, menu_name)\n",
    "    number_of_elements = len(menu)\n",
    "    get_valid_user_input(number_of_elements)\n",
    "    return get_valid_user_input(number_of_elements)\n",
    "\n",
    "def print_summary(vorspeise, hauptspeise, nachspeise):\n",
    "    print('Sie haben gewählt:\\n')\n",
    "    print(f'Vorspeise: {vorspeisen[vorspeise]}')\n",
    "    print(f'Hauptspeise: {hauptspeisen[hauptspeise]}')\n",
    "    print(f'Nachspeise: {nachspeisen [nachspeise]}\\n')\n",
    "\n",
    "def print_comment(vorspeise, hauptspeise, nachspeise):\n",
    "    if vorspeise == len(vorspeisen) and hauptspeise == len(hauptspeisen) and nachspeise == len(nachspeisen):\n",
    "\n",
    "    if (vorspeise_int == 1) and (hauptspeise_int in range(1, 4)) and (nachspeise_int in range(1, 3)):\n",
    "        print('Hunger ist der beste Koch!')\n",
    "    elif (vorspeise_int == 2) and (hauptspeise_int == 4) and (nachspeise_int == 3):\n",
    "        print('Sie haben wohl keinen Hunger. Vielleicht sehen wir uns später nochmal.')\n",
    "    else: \n",
    "        pass \n",
    "\n",
    "###########################################\n",
    "# Hauptprogramm \n",
    "###########################################\n",
    "choice_vorspeise = choose_menu(vorspeisen, 'Vorspeise')\n",
    "choice_hauptspeise = choose_menu(hauptspeisen, 'Hauptspeise')\n",
    "choice_nachspeise = choose_menu(nachspeisen, 'Nachspeise')\n",
    "\n",
    "print_summary(choice_vorspeise, choice_hauptspeise, choice_nachspeise)\n",
    "print_comment(choice_vorspeise, choice_hauptspeise, choice_nachspeise)\n",
    "\n",
    "# def do_sum(a, b)\n",
    "#     c = a + b\n",
    "#     return c\n",
    "\n",
    "# result = do_sum(5, 7)\n",
    "# print(result)\n",
    "\n",
    "print_choices(vorspeisen, 'Vorspeise') # hier bekommt course den Inhalt von vorspeisen, da ich es mit dem Paramter hier aufrufe\n",
    "print_choices(hauptspeisen, 'Hauptspeise') # hier bekommt course den Inhalt von hauptspeisen, da ich es mit dem Paramter hier aufrufe\n",
    "print_choices(nachspeisen, 'Nachspeise') # hier bekommt course den Inhalt von nachspeisen, da ich es mit dem Paramter hier aufrufe\n",
    "\n",
    "\n",
    "\n",
    "\n",
    "\n",
    "\n",
    "\n",
    "# Vorspeise\n",
    "print('Bitte wählen Sie Ihre Vorspeise: ')\n",
    "for index, vorspeise in enumerate(vorspeisen):\n",
    "    print(f'{index + 1}) {vorspeise}')\n",
    "while vorspeise != True:\n",
    "    user_vorspeise = input('Bitte wählen Sie Ihre Vorspeise: ')  \n",
    "    vorspeise_int = int(user_vorspeise)\n",
    "    if vorspeise_int in range(1, len(vorspeisen)+1): # Meine Antwort war: if (vorspeise_int >= 1) and (vorspeise_int <= 2):\n",
    "        vorspeise = True\n",
    "    else:\n",
    "        print('Falsche Eingabe')\n",
    "print('')\n",
    "\n",
    "# Hauptspeise\n",
    "print('Bitte wählen Sie Ihre Hauptspeise: ')\n",
    "for index, hauptspeise in enumerate(hauptspeisen):\n",
    "    print(f'{index + 1}) {hauptspeise}')\n",
    "while hauptspeise != True:\n",
    "    user_hauptspeise = input('Bitte wählen Sie Ihre Hauptspeise: ')  \n",
    "    hauptspeise_int = int(user_hauptspeise)\n",
    "    if hauptspeise_int in range(1, len(hauptspeisen)+1): # Meine Antwort war: if (hauptspeise_int >= 1) and (hauptspeise_int <=4):\n",
    "        hauptspeise = True\n",
    "    else:\n",
    "        print('Falsche Eingabe')    \n",
    "print('')\n",
    "\n",
    "# Nachspeise\n",
    "print('Bitte wählen Sie Ihre Nachspeise: ')\n",
    "for index, nachspeise in enumerate(nachspeisen):\n",
    "    print(f'{index + 1}) {nachspeise}')\n",
    "while nachspeise != True: \n",
    "    user_nachspeise = input('Bitte wählen Sie Ihre Nachspeise: ')\n",
    "    nachspeise_int = int(user_nachspeise)\n",
    "    if nachspeise_int in range(1, len(nachspeisen)+1): # Meine Antwort war: if (nachspeise_int >= 1) and (nachspeise_int <=3):\n",
    "        nachspeise = True\n",
    "    else:\n",
    "        print('Falsche Eingabe')\n",
    "print('')\n",
    "\n",
    "index_vorspeise = (vorspeise_int - 1)\n",
    "index_hauptspeise = (hauptspeise_int - 1)\n",
    "index_nachspeise = (nachspeise_int - 1)\n",
    "\n",
    "print('Sie haben gewählt:\\n')\n",
    "print(f'Vorspeise: {vorspeisen[index_vorspeise]}')\n",
    "print(f'Hauptspeise: {hauptspeisen[index_hauptspeise]}')\n",
    "print(f'Nachspeise: {nachspeisen [index_nachspeise]}\\n')\n",
    "\n",
    "if (vorspeise_int == 1) and (hauptspeise_int in range(1, 4)) and (nachspeise_int in range(1, 3)):\n",
    "    print('Hunger ist der beste Koch!')\n",
    "elif (vorspeise_int == 2) and (hauptspeise_int == 4) and (nachspeise_int == 3):\n",
    "    print('Sie haben wohl keinen Hunger. Vielleicht sehen wir uns später nochmal.')\n",
    "else: \n",
    "    pass "
   ]
  },
  {
   "cell_type": "markdown",
   "metadata": {},
   "source": [
    "*Notieren Sie hier Ihre Änderungen und Ihre Idee, wie Sie das Programm hinsichtlich Erweiterbarkeit verbessern könnten.*"
   ]
  },
  {
   "cell_type": "markdown",
   "metadata": {
    "deletable": false,
    "editable": false
   },
   "source": [
    "---\n",
    "\n",
    "**Hinweis**: Durch Auswertung der folgenden Zelle werden alle Tests ausgeführt.\n",
    "Sie sollten das Notebook zuvor bis hier hin von oben nach unten ausgewertet haben.\n",
    "\n"
   ]
  },
  {
   "cell_type": "code",
   "execution_count": null,
   "metadata": {
    "deletable": false,
    "editable": false
   },
   "outputs": [],
   "source": [
    "grader.check_all()"
   ]
  }
 ],
 "metadata": {
  "kernelspec": {
   "display_name": "Python 3",
   "language": "python",
   "name": "python3"
  },
  "language_info": {
   "codemirror_mode": {
    "name": "ipython",
    "version": 3
   },
   "file_extension": ".py",
   "mimetype": "text/x-python",
   "name": "python",
   "nbconvert_exporter": "python",
   "pygments_lexer": "ipython3",
   "version": "3.11.5"
  },
  "otter": {
   "OK_FORMAT": false,
   "assignment_name": "04_kontrollstrukturen",
   "tests": {}
  }
 },
 "nbformat": 4,
 "nbformat_minor": 2
}
