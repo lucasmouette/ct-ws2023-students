{
 "cells": [
  {
   "cell_type": "code",
   "execution_count": 5,
   "metadata": {
    "deletable": false,
    "editable": false
   },
   "outputs": [],
   "source": [
    "# Initialize Otter\n",
    "import otter\n",
    "grader = otter.Notebook(\"08_kontrollstrukturen.ipynb\")"
   ]
  },
  {
   "cell_type": "markdown",
   "metadata": {},
   "source": [
    "# Computational Thinking - WS 2023/2024\n",
    "\n",
    "## Kontrollstrukturen\n",
    "\n",
    "Autor: Prof. Dr.-Ing. Benedikt Dietrich"
   ]
  },
  {
   "cell_type": "markdown",
   "metadata": {},
   "source": [
    "***"
   ]
  },
  {
   "cell_type": "markdown",
   "metadata": {
    "deletable": false,
    "editable": false
   },
   "source": [
    "### Aufgabe 1 - Nullstellen\n",
    "\n",
    "Schreiben Sie ein Programm, das für gegebene Variablen a, b und c die reelle(n) Lösung(en) der Gleichung\n",
    "\n",
    "$$\n",
    "ax^2 + bx + c = 0\n",
    "$$\n",
    "\n",
    "berechnet.\n",
    "\n",
    "Verwenden Sie hierfür die Mitternachtsformel:\n",
    "\n",
    "$$\n",
    "x_{1,2} = \\frac{-b \\pm \\sqrt{b^2 - 4ac}}{2a}\n",
    "$$\n",
    "\n",
    "Das Ergebnis soll (abhängig von der Anzahl an Nullstellen) wie folgt ausgegeben werden:\n",
    "\n",
    "```text\n",
    "    Die Gleichung hat keine Nullstellen.\n",
    "```\n",
    "\n",
    "```text\n",
    "    Die Gleichung hat eine Nullstelle an der Stelle 2.\n",
    "```\n",
    "\n",
    "```text\n",
    "    Die Gleichung hat zwei Nullstellen.\n",
    "    Die erste Nullstelle ist an der Stelle 1.\n",
    "    Die zweite Nullstelle ist an der Stelle 4.\n",
    "```"
   ]
  },
  {
   "cell_type": "markdown",
   "metadata": {
    "deletable": false,
    "editable": false
   },
   "source": [
    "Hinweis: Die Wurzel aus einer Zahl kann mit Hilfe der Funktion `sqrt` berechnet werden. Die Funktion ist Teil des `math`-Moduls und muss daher zunächst mit folgendem Befehl importiert werden:"
   ]
  },
  {
   "cell_type": "code",
   "execution_count": 2,
   "metadata": {
    "deletable": false,
    "editable": false
   },
   "outputs": [
    {
     "name": "stdout",
     "output_type": "stream",
     "text": [
      "1.4142135623730951\n"
     ]
    }
   ],
   "source": [
    "from math import sqrt\n",
    "print(sqrt(2))"
   ]
  },
  {
   "cell_type": "code",
   "execution_count": 3,
   "metadata": {
    "tags": []
   },
   "outputs": [
    {
     "data": {
      "text/plain": [
       "Ellipsis"
      ]
     },
     "execution_count": 3,
     "metadata": {},
     "output_type": "execute_result"
    }
   ],
   "source": [
    "from math import sqrt # Für die Berechnung der Wurzel\n",
    "a = 1\n",
    "b = 4\n",
    "c = 3\n",
    "\n",
    "..."
   ]
  },
  {
   "cell_type": "code",
   "execution_count": 5,
   "metadata": {},
   "outputs": [
    {
     "name": "stdout",
     "output_type": "stream",
     "text": [
      "Es gibt zwei Nullstellen: -1.0 und -3.0\n"
     ]
    }
   ],
   "source": [
    "# Musterlösung\n",
    "\n",
    "a = 1\n",
    "b = 4\n",
    "c = 3\n",
    "d = b ** 2 - 4 * a * c # immer versuchen Code nicht zu kopieren, da sonst die Fehlerquote sich erhöhen kann\n",
    "\n",
    "if d > 0:\n",
    "    x1 = (-b + sqrt(d)) / (2 * a) # Frage: warum hier -b und nicht nur b?\n",
    "    x2 = (-b - sqrt(d)) / (2 * a)\n",
    "    print(f\"Es gibt zwei Nullstellen: {x1} und {x2}\")\n",
    "elif d == 0:\n",
    "    x1 == -b / (2 * a)\n",
    "    print(f\"Es gibt eine Nullstellen: {x1}\") # durch \"pass\" kann man die Funktion bsp. erst später befüllen und bekommt somit kein Fehler von Python\n",
    "else:\n",
    "    print(\"Es gibt keine Nullstellen: \")"
   ]
  },
  {
   "cell_type": "code",
   "execution_count": 13,
   "metadata": {},
   "outputs": [
    {
     "name": "stdout",
     "output_type": "stream",
     "text": [
      "-3\n",
      "-5\n",
      "0\n",
      "8\n"
     ]
    }
   ],
   "source": [
    "# Meine Lösung\n",
    "\n",
    "a = 1\n",
    "b = 4\n",
    "c = 3\n",
    "\n",
    "\n",
    "x1 = int(-b + sqrt(b ** 2 - (4 * a * c)) / (2 * a))\n",
    "x2 = int(-b - sqrt(b ** 2 - (4 * a * c)) / (2 * a))\n",
    "\n",
    "print(x1)\n",
    "print(x2)\n",
    "\n",
    "Lösung_1 = int((a * x1) ** 2 + (b * x1) + c)\n",
    "Lösung_2 = int((a * x2) ** 2 + (b * x2) + c)\n",
    "\n",
    "print(Lösung_1) # auf Papier habe ich -1 berechnet und dann stimmt = 0\n",
    "print(Lösung_2) # auf Papier habe ich -3 berechnet und dann stimmt = 0\n"
   ]
  },
  {
   "cell_type": "markdown",
   "metadata": {},
   "source": [
    "***"
   ]
  },
  {
   "cell_type": "markdown",
   "metadata": {
    "deletable": false,
    "editable": false
   },
   "source": [
    "### Aufgabe 2 - Würfelreihe\n",
    "\n",
    "Schreiben Sie ein Programm, dass so lange würfelt, bis 6 geworfen wird. \n",
    "\n",
    "Das Programm soll am Ende, die Anzahl an Würfen in folgendem Format ausgeben:\n",
    "\n",
    "```text\n",
    "    Es wurde 5 Mal gewürfelt, bis die erste 6 kam.\n",
    "```"
   ]
  },
  {
   "cell_type": "code",
   "execution_count": 13,
   "metadata": {
    "tags": []
   },
   "outputs": [
    {
     "data": {
      "text/plain": [
       "Ellipsis"
      ]
     },
     "execution_count": 13,
     "metadata": {},
     "output_type": "execute_result"
    }
   ],
   "source": [
    "from random import randrange\n",
    "\n",
    "..."
   ]
  },
  {
   "cell_type": "code",
   "execution_count": null,
   "metadata": {},
   "outputs": [],
   "source": [
    "\n",
    "# Musterlösung\n",
    "\n",
    "# 1. prüfen ob 6\n",
    "# 2. ein Zähler definieren\n",
    "# 3. initialer Wert der Zahl\n",
    "# 4. Würfel \"erstellen\"\n",
    "# 5. Ausgabe tätigen\n",
    "# 6. wiederholen\n",
    "\n",
    "wuerfel_ergebnis = 0\n",
    "zaehler_wuerfe = 0 # durch die 0 (und nicht None) wird die Zahl direkt auf ein int festgelegt\n",
    "\n",
    "while wuerfel_ergebnis != 6: # hier könnte man auch wuerfel_ergebnis < 6 schreiben\n",
    "    zaehler_wuerfe += 1\n",
    "    wuerfel_ergebnis = randrange(1, 7)\n",
    "\n",
    "print(f'Es wurde {zaehler_wuerfe} Mal gewürfelt, bis die erste 6 kam.')    "
   ]
  },
  {
   "cell_type": "code",
   "execution_count": 11,
   "metadata": {},
   "outputs": [
    {
     "name": "stdout",
     "output_type": "stream",
     "text": [
      "Es wurde 6 Mal gewürfelt, bis die erste 6 kam.\n"
     ]
    }
   ],
   "source": [
    "# Meine Lösung\n",
    "from random import randrange\n",
    "\n",
    "w = randrange(1, 7) # wenn hier die 6 als erstes rauskommen würde, dann würde die while Schleife gar nicht erstmal gestartet!!\n",
    "\n",
    "while w < 6:\n",
    "    w += 1\n",
    "    \n",
    "print(f'Es wurde {w} Mal gewürfelt, bis die erste 6 kam.')"
   ]
  },
  {
   "cell_type": "markdown",
   "metadata": {
    "deletable": false,
    "editable": false
   },
   "source": [
    "### Aufgabe 3 - Punkt und Strich\n",
    "\n",
    "Schreiben Sie ein Programm, das mit Hilfe von zwei verschachtelten while-Schleifen folgendes ausgibt:\n",
    "\n",
    "```text\n",
    "    ---------\n",
    "    ---------\n",
    "    ---------\n",
    "    ---------\n",
    "    ----*----\n",
    "    ---------\n",
    "    ---------\n",
    "    ---------\n",
    "    ---------\n",
    "```\n",
    "\n",
    "* Die innere Schleife soll die jeweils einzelne Striche oder den Stern ausgeben (Spaltenzahl).\n",
    "* Die äußere Schleife iteriert über die Zeilen (Zeilenzahl).\n",
    "\n",
    "*Hinweis:* Um in Python ein einzelnes Zeichen ohne Zeilenumbruch auszugeben, müssen Sie bei der Print-Anweisung das `end`-Zeichen auf einen leeren String setzen:\n",
    "\n",
    "```python\n",
    "    print(\"Hello, world!\", end=\"\")\n",
    "```\n",
    "**\\n ist ein Zeilenbruch (option + shift + 7 = \\ )**"
   ]
  },
  {
   "cell_type": "code",
   "execution_count": 16,
   "metadata": {
    "tags": []
   },
   "outputs": [
    {
     "name": "stdout",
     "output_type": "stream",
     "text": [
      "---------\n",
      "---------\n",
      "---------\n",
      "---------\n",
      "----*----\n",
      "---------\n",
      "---------\n",
      "---------\n",
      "---------\n"
     ]
    }
   ],
   "source": [
    "# Musterlösung\n",
    "\n",
    "# 9 Striche pro Zeile\n",
    "# 9 Spalten\n",
    "# Zeile 5 hat auf Strich 5 ein Stern\n",
    "\n",
    "\n",
    "# . Anzahl an Zeilen festlegen\n",
    "# . Anzahl an Spalten festlegen\n",
    "# . Anzahl an Zeichen pro Zeile festlegen\n",
    "# . Zeilenumbruch festlegen\n",
    "\n",
    "zeilen = 0\n",
    "while zeilen < 9:\n",
    "    spalten = 0\n",
    "    while spalten < 9:\n",
    "        if spalten == 4 and zeilen == 4: \n",
    "            print('*', end='')\n",
    "        else:\n",
    "            print('-', end='')\n",
    "        spalten += 1\n",
    "    print('')\n",
    "    zeilen += 1"
   ]
  },
  {
   "cell_type": "code",
   "execution_count": null,
   "metadata": {},
   "outputs": [],
   "source": [
    "# Meine Lösung !! ACHTUNG NICHT AUSFAHREN - SONST CRASH lul\n",
    "\n",
    "zeilenzahl = 0\n",
    "spaltenzahl = 0\n",
    "\n",
    "while spaltenzahl < 10:\n",
    "    print('-', end='')\n",
    "    while zeilenzahl < 10:\n",
    "        print('-', end='')"
   ]
  },
  {
   "cell_type": "markdown",
   "metadata": {},
   "source": [
    "***"
   ]
  },
  {
   "cell_type": "markdown",
   "metadata": {
    "deletable": false,
    "editable": false
   },
   "source": [
    "### Aufgabe 4 - Punkt, Strich, for\n",
    "\n",
    "Schreiben Sie das Programm aus Aufgabe 3 um und ersetzen Sie die `while`-Schleifen durch `for`-Schleifen in Kombination mit der `range`-Funktion."
   ]
  },
  {
   "cell_type": "code",
   "execution_count": 12,
   "metadata": {
    "tags": []
   },
   "outputs": [
    {
     "name": "stdout",
     "output_type": "stream",
     "text": [
      "---------\n",
      "---------\n",
      "---------\n",
      "---------\n",
      "----*----\n",
      "---------\n",
      "---------\n",
      "---------\n",
      "---------\n"
     ]
    }
   ],
   "source": [
    "for row in range(9): \n",
    "    for column in range(9):\n",
    "        if row == 4 and column == 4:\n",
    "            print('*', end='')\n",
    "        else:\n",
    "            print('-', end='')\n",
    "    print('')"
   ]
  },
  {
   "cell_type": "markdown",
   "metadata": {},
   "source": [
    "***"
   ]
  },
  {
   "cell_type": "markdown",
   "metadata": {
    "deletable": false,
    "editable": false
   },
   "source": [
    "### Aufgabe 5 - Buchstabensuche\n",
    "\n",
    "Folgendes Programm sucht in einem String namens `text` die erste Stelle, an der der Buchstabe `search` vorkommt. \n",
    "\n",
    "Ändern Sie das Program so ab, dass es nicht unnötig im String weitersucht, wenn der Buchstabe schon gefunden wurde."
   ]
  },
  {
   "cell_type": "code",
   "execution_count": null,
   "metadata": {
    "tags": []
   },
   "outputs": [],
   "source": [
    "text = \"Dies ist mein toller Text\"\n",
    "search = \"m\"\n",
    "\n",
    "for i, letter in enumerate(text):\n",
    "    if letter == search:\n",
    "        print(f\"Die erste Stelle an der {search} vorkommt ist Postion {i}\")"
   ]
  },
  {
   "cell_type": "code",
   "execution_count": 3,
   "metadata": {},
   "outputs": [
    {
     "name": "stdout",
     "output_type": "stream",
     "text": [
      "1 Schweinebraten\n",
      "2 Salat\n",
      "3 Kaiserschmarrn\n",
      "4 Suppe\n"
     ]
    }
   ],
   "source": [
    "# Zusatz zur Vorlesung: \n",
    "\n",
    "# Beispiel an erweiterbaren Code\n",
    "\n",
    "hauptspeisen = [\"Schweinebraten\", \"Salat\", \"Kaiserschmarrn\", \"Suppe\"]\n",
    "\n",
    "zaehler = 0 \n",
    "for hauptspeise in hauptspeisen: \n",
    "    zaehler += 1\n",
    "    print(f'{zaehler} {hauptspeise}')"
   ]
  },
  {
   "cell_type": "code",
   "execution_count": 5,
   "metadata": {},
   "outputs": [
    {
     "name": "stdout",
     "output_type": "stream",
     "text": [
      "Ausgabe\n",
      "Ausgabe\n",
      "Ausgabe\n",
      "Ausgabe\n",
      "Ausgabe\n",
      "Ausgabe\n",
      "Ausgabe\n",
      "Ausgabe\n",
      "Ausgabe\n",
      "Ausgabe\n"
     ]
    }
   ],
   "source": [
    "# Zusatz zur Vorlesung:\n",
    "\n",
    "# hier muss number nicht wieder hergenommen werden und somit wird der String 'Ausgabe' 10 mal wiederholt\n",
    "\n",
    "for number in range(10):\n",
    "    print('Ausgabe')"
   ]
  }
 ],
 "metadata": {
  "kernelspec": {
   "display_name": "Python 3",
   "language": "python",
   "name": "python3"
  },
  "language_info": {
   "codemirror_mode": {
    "name": "ipython",
    "version": 3
   },
   "file_extension": ".py",
   "mimetype": "text/x-python",
   "name": "python",
   "nbconvert_exporter": "python",
   "pygments_lexer": "ipython3",
   "version": "3.11.5"
  },
  "otter": {
   "OK_FORMAT": true,
   "assignment_name": "08_kontrollstrukturen",
   "tests": {}
  }
 },
 "nbformat": 4,
 "nbformat_minor": 2
}
