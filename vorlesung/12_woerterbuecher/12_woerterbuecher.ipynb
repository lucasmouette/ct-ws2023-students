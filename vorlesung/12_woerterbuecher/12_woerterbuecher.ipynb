{
 "cells": [
  {
   "cell_type": "code",
   "execution_count": null,
   "metadata": {
    "deletable": false,
    "editable": false
   },
   "outputs": [],
   "source": [
    "# Initialize Otter\n",
    "import otter\n",
    "grader = otter.Notebook(\"12_woerterbuecher.ipynb\")"
   ]
  },
  {
   "cell_type": "markdown",
   "metadata": {},
   "source": [
    "# Computational Thinking WS2022/23\n",
    "**Autoren:** \n",
    "+ Prof. Dr. Benedikt Dietrich"
   ]
  },
  {
   "cell_type": "markdown",
   "metadata": {},
   "source": [
    "## 1. Konfiguration eines Programms\n",
    "\n",
    "Gegeben ist ein einfaches Wörterbuch, welches die Konfiguration für ein Programm beinhaltet. Ändern Sie die Konfiguration wie beschrieben ab."
   ]
  },
  {
   "cell_type": "code",
   "execution_count": 3,
   "metadata": {},
   "outputs": [],
   "source": [
    "configuration = {\n",
    "    \"language\": \"german\",\n",
    "    \"recently_opened_files\": [\"blablub.txt\", \"blubblub.txt\", \"data.csv\"],\n",
    "    \"mouse_speed\": 10\n",
    "}"
   ]
  },
  {
   "cell_type": "markdown",
   "metadata": {
    "deletable": false,
    "editable": false
   },
   "source": [
    "### 1.1 Elemente lesen\n",
    "\n",
    "Schreiben Sie zunächst eine Funktion, die die aktuelle Konfiguration wie folgt ausgibt:\n",
    "\n",
    "```text\n",
    "    Sprache: german\n",
    "    Zuletzt geöffnete Dateien: \n",
    "    * blablub.txt\n",
    "    * blubblub.txt\n",
    "    * data.csv\n",
    "    Mausgeschwindigkeit: 10\n",
    "```"
   ]
  },
  {
   "cell_type": "code",
   "execution_count": null,
   "metadata": {
    "tags": []
   },
   "outputs": [],
   "source": [
    "...\n",
    "\n",
    "print_configuration(configuration)"
   ]
  },
  {
   "cell_type": "code",
   "execution_count": null,
   "metadata": {},
   "outputs": [],
   "source": [
    "# Meine Lösung\n",
    "\n",
    "configuration = {\n",
    "    Sprache: 'german',\n",
    "    Zuletzt geöffnete Dateien: ['blablub.txt', 'blubblub.txt', 'data.csv'], \n",
    "    Mausgeschwindigkeit: 10\n",
    "}\n",
    "\n",
    "def konfiguration(): \n",
    "    print()\n",
    "\n",
    "print_konfiguration(configuration)    "
   ]
  },
  {
   "cell_type": "code",
   "execution_count": 4,
   "metadata": {},
   "outputs": [
    {
     "name": "stdout",
     "output_type": "stream",
     "text": [
      "Sprache: german\n",
      "Zuletzt geöffnete Dateien: \n",
      "* blablub.txt\n",
      "* blubblub.txt\n",
      "* data.csv\n",
      "Mausgeschwindigkeit: 10\n"
     ]
    }
   ],
   "source": [
    "# Muster Lösung\n",
    "\n",
    "def print_configuration(conf):\n",
    "    print(f'Sprache: {conf[\"language\"]}') # hier werden einmal \"\" und einmal '' benutzt um zwischen den f string un den \"language\" zu unterscheiden\n",
    "    print(f'Zuletzt geöffnete Dateien: ') \n",
    "    for file in conf [\"recently_opened_files\"]:\n",
    "        print(f\"* {file}\")\n",
    "    print(f'Mausgeschwindigkeit: {conf[\"mouse_speed\"]}')\n",
    "\n",
    "print_configuration(configuration)"
   ]
  },
  {
   "cell_type": "markdown",
   "metadata": {
    "deletable": false,
    "editable": false
   },
   "source": [
    "### 1.2 Elemente verändern\n",
    "\n",
    "Verändern Sie nun die Konfiguration wie gefordert:"
   ]
  },
  {
   "cell_type": "code",
   "execution_count": null,
   "metadata": {
    "tags": []
   },
   "outputs": [],
   "source": [
    "# Setzen Sie die Geschwindigkeit der Maus auf 6\n",
    "\n",
    "..."
   ]
  },
  {
   "cell_type": "code",
   "execution_count": null,
   "metadata": {},
   "outputs": [],
   "source": [
    "# Muster Lösung\n",
    "\n",
    "configuration['mouse_speed'] = 6"
   ]
  },
  {
   "cell_type": "code",
   "execution_count": null,
   "metadata": {
    "tags": []
   },
   "outputs": [],
   "source": [
    "# Fügen Sie zu den zuletzt geöffneten Dateien die Datei wowow.txt hinzu\n",
    "\n",
    "..."
   ]
  },
  {
   "cell_type": "code",
   "execution_count": null,
   "metadata": {},
   "outputs": [],
   "source": [
    "# Muster Lösung\n",
    "\n",
    "configuration['recently_opened_files'].append('wowow.txt')"
   ]
  },
  {
   "cell_type": "code",
   "execution_count": null,
   "metadata": {
    "tags": []
   },
   "outputs": [],
   "source": [
    "# Verändern Sie die Sprache in english\n",
    "\n",
    "..."
   ]
  },
  {
   "cell_type": "code",
   "execution_count": null,
   "metadata": {},
   "outputs": [],
   "source": [
    "# Muster Lösung\n",
    "\n",
    "configuration['language'] = 'english'"
   ]
  },
  {
   "cell_type": "code",
   "execution_count": null,
   "metadata": {
    "tags": []
   },
   "outputs": [],
   "source": [
    "# Fügen Sie die Konfiguration \"keyboard_layout\" mit dem Wert \"de\" hinzu.\n",
    "\n",
    "..."
   ]
  },
  {
   "cell_type": "code",
   "execution_count": null,
   "metadata": {},
   "outputs": [],
   "source": [
    "# Muster Lösung\n",
    "\n",
    "configuration['keyboard_layout'] = 'de'"
   ]
  },
  {
   "cell_type": "markdown",
   "metadata": {},
   "source": [
    "## 2. Verschlüsselung von Text\n",
    "\n",
    "Ein einfaches Codierverfahren ist es, bei einem Text Buchstaben durch andere Buchstaben zu ersetzen. Ein Beispiel eines Verschlüsselungsschemas ist gegeben durch:\n",
    "\n",
    "```text\n",
    "    a -> d\n",
    "    b -> f\n",
    "    c -> k\n",
    "    d -> a\n",
    "    e -> n\n",
    "    f -> o\n",
    "    g -> q\n",
    "    h -> j\n",
    "    i -> h\n",
    "    j -> l\n",
    "    k -> m\n",
    "    l -> s\n",
    "    m -> y\n",
    "    n -> x\n",
    "    o -> u\n",
    "    p -> t\n",
    "    q -> w\n",
    "    r -> b\n",
    "    s -> g\n",
    "    t -> i\n",
    "    u -> e\n",
    "    v -> c\n",
    "    w -> p\n",
    "    x -> r\n",
    "    y -> v\n",
    "    z -> z\n",
    "```\n",
    "\n",
    "Der Text\n",
    "\n",
    "```text\n",
    "    dies ist der zu verschluesselnde text\n",
    "```\n",
    "\n",
    "wird Buchstabe für Buchstabe mit diesem Schema verschlüsselt und ergibt dann:\n",
    "\n",
    "```text\n",
    "    ahng hgi anb ze cnbgkjsenggnsxan inri\n",
    "```"
   ]
  },
  {
   "cell_type": "markdown",
   "metadata": {
    "deletable": false,
    "editable": false
   },
   "source": [
    "### 2.1 Wörterbuch erstellen\n",
    "\n",
    "Erstellen Sie ein Wörterbuch `encoding_scheme`, welches zur Verschlüsselung verwendet werden kann."
   ]
  },
  {
   "cell_type": "code",
   "execution_count": null,
   "metadata": {
    "tags": []
   },
   "outputs": [],
   "source": [
    "...\n",
    "\n",
    "# hier multi cursor Funktion von VS Code benutzen (option + command) = strg + shift auf windows"
   ]
  },
  {
   "cell_type": "code",
   "execution_count": 29,
   "metadata": {},
   "outputs": [
    {
     "name": "stdout",
     "output_type": "stream",
     "text": [
      "d\n"
     ]
    }
   ],
   "source": [
    "# Meine Lösung\n",
    "\n",
    "encoding_scheme = {\n",
    "    'a': 'd',\n",
    "    'b': 'f',\n",
    "    'c': 'k',\n",
    "    'd': 'a',\n",
    "    'e': 'n',\n",
    "    'f': 'o',\n",
    "    'g': 'q',\n",
    "    'h': 'j',\n",
    "    'i': 'h',\n",
    "    'j': 'l',\n",
    "    'k': 'm',\n",
    "    'l': 's',\n",
    "    'm': 'y',\n",
    "    'n': 'x',\n",
    "    'o': 'u',\n",
    "    'p': 't',\n",
    "    'q': 'w',\n",
    "    'r': 'b',\n",
    "    's': 'g',\n",
    "    't': 'i',\n",
    "    'u': 'e',\n",
    "    'v': 'c',\n",
    "    'w': 'p',\n",
    "    'x': 'r',\n",
    "    'y': 'v',\n",
    "    'z': 'z'\n",
    "}\n",
    "\n",
    "print(encoding_scheme['a'])"
   ]
  },
  {
   "cell_type": "markdown",
   "metadata": {
    "deletable": false,
    "editable": false
   },
   "source": [
    "### 2.2 Verschlüsseln\n",
    "\n",
    "Schreiben Sie eine Funktion `encode(scheme, text)`, welcher ein Schlüssel und ein zu codierender Text übergeben wird. Die Funktion soll den Text wie beschrieben verschlüsseln und das Ergebnis als String zurückliefern."
   ]
  },
  {
   "cell_type": "code",
   "execution_count": null,
   "metadata": {
    "tags": []
   },
   "outputs": [],
   "source": [
    "...\n",
    "\n",
    "# Soll den Text verschlüsselt ausgeben\n",
    "print(encode(encoding_scheme, \"dies ist der zu verschluesselnde text\"))"
   ]
  },
  {
   "cell_type": "code",
   "execution_count": 33,
   "metadata": {},
   "outputs": [
    {
     "name": "stdout",
     "output_type": "stream",
     "text": [
      "ahng hgi anb ze cnbgkjsenggnsxan inri\n"
     ]
    }
   ],
   "source": [
    "# Meine Lösung\n",
    "\n",
    "def encode(scheme, text):\n",
    "    new_text = ''\n",
    "    for letter in text:\n",
    "       if letter in scheme: # hier wird geprüft ob buchstabe in encoding_scheme = scheme ist\n",
    "           new_text += scheme[letter]\n",
    "       else:\n",
    "           new_text += letter\n",
    "\n",
    "    return new_text\n",
    "\n",
    "print(encode(encoding_scheme, \"dies ist der zu verschluesselnde text\")) "
   ]
  },
  {
   "cell_type": "markdown",
   "metadata": {
    "deletable": false,
    "editable": false
   },
   "source": [
    "### 2.3 Entschlüsseln\n",
    "\n",
    "Entwickeln Sie nun die Funktion `decode(scheme, text)`, welche den Text wieder entschlüsselt. Erzeugen Sie hierfür in der Funktion aus `scheme` ein Wörterbuch zum entschlüsseln und rufen Sie damit die Funktion `encode()` auf."
   ]
  },
  {
   "cell_type": "code",
   "execution_count": null,
   "metadata": {
    "tags": []
   },
   "outputs": [],
   "source": [
    "def decode(scheme, text):\n",
    "    inv_scheme = dict((v, k) for k, v in scheme.items())\n",
    "    return encode(inv_scheme, text)\n"
   ]
  },
  {
   "cell_type": "code",
   "execution_count": 36,
   "metadata": {
    "tags": []
   },
   "outputs": [
    {
     "name": "stdout",
     "output_type": "stream",
     "text": [
      "dies ist der zu verschluesselnde text\n"
     ]
    }
   ],
   "source": [
    "encoded_text = encode(encoding_scheme, \"dies ist der zu verschluesselnde text\")\n",
    "decoded_text = decode(encoding_scheme, encoded_text)\n",
    "print(decoded_text)"
   ]
  },
  {
   "cell_type": "code",
   "execution_count": null,
   "metadata": {},
   "outputs": [],
   "source": [
    "# Meine Lösung"
   ]
  },
  {
   "cell_type": "code",
   "execution_count": 39,
   "metadata": {},
   "outputs": [
    {
     "name": "stdout",
     "output_type": "stream",
     "text": [
      "dies ist der zu verschluesselnde text\n"
     ]
    }
   ],
   "source": [
    "# Muster Lösung\n",
    "\n",
    "# Variante 1\n",
    "\n",
    "def decode(scheme, text):\n",
    "    decoding_scheme = {}\n",
    "    scheme_keys = list(scheme.keys())\n",
    "    scheme_values = list(scheme.values())\n",
    "    for idx, key in enumerate(scheme_keys):\n",
    "        # Zusatz zur Vorlesung: print(f'{idx=} {key=}') # wir hatten bislang so = print(f'idx={idx} key={key}')\n",
    "        decoding_scheme[scheme_values[idx]] = key\n",
    "    \n",
    "    return encode(decoding_scheme, text)\n",
    "\n",
    "# decode(encoding_scheme, 'text')\n",
    "\n",
    "encoded_text = encode(encoding_scheme, \"dies ist der zu verschluesselnde text\")\n",
    "decoded_text = decode(encoding_scheme, encoded_text)\n",
    "print(decoded_text)"
   ]
  },
  {
   "cell_type": "code",
   "execution_count": 40,
   "metadata": {},
   "outputs": [
    {
     "name": "stdout",
     "output_type": "stream",
     "text": [
      "dies ist der zu verschluesselnde text\n"
     ]
    }
   ],
   "source": [
    "# Muster Lösung\n",
    "\n",
    "# Variante 2\n",
    "\n",
    "def decode(scheme, text):\n",
    "    decoding_scheme = {}\n",
    "    scheme_keys = list(scheme.keys())\n",
    "    scheme_values = list(scheme.values())\n",
    "    for i in range(len(scheme_keys)):\n",
    "        # scheme_keys[i] # 'a'\n",
    "        # scheme_values[i] # 'd'\n",
    "        decoding_scheme[scheme_values[i]] = scheme_keys[i]\n",
    "    \n",
    "    return encode(decoding_scheme, text)\n",
    "\n",
    "# decode(encoding_scheme, 'text')\n",
    "\n",
    "encoded_text = encode(encoding_scheme, \"dies ist der zu verschluesselnde text\")\n",
    "decoded_text = decode(encoding_scheme, encoded_text)\n",
    "print(decoded_text)"
   ]
  }
 ],
 "metadata": {
  "kernelspec": {
   "display_name": "Python 3",
   "language": "python",
   "name": "python3"
  },
  "language_info": {
   "codemirror_mode": {
    "name": "ipython",
    "version": 3
   },
   "file_extension": ".py",
   "mimetype": "text/x-python",
   "name": "python",
   "nbconvert_exporter": "python",
   "pygments_lexer": "ipython3",
   "version": "3.11.5"
  },
  "otter": {
   "OK_FORMAT": false,
   "assignment_name": "11_dateioperationen",
   "tests": {}
  }
 },
 "nbformat": 4,
 "nbformat_minor": 2
}
