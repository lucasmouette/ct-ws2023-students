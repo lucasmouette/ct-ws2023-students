{
 "cells": [
  {
   "cell_type": "code",
   "execution_count": null,
   "metadata": {
    "deletable": false,
    "editable": false
   },
   "outputs": [],
   "source": [
    "# Initialize Otter\n",
    "import otter\n",
    "grader = otter.Notebook(\"10_listen_und_tupel.ipynb\")"
   ]
  },
  {
   "cell_type": "markdown",
   "metadata": {},
   "source": [
    "# Computational Thinking - WS 2023/2024\n",
    "\n",
    "## Listen und Tupel\n",
    "\n",
    "Autor: Prof. Dr.-Ing. Benedikt Dietrich"
   ]
  },
  {
   "cell_type": "markdown",
   "metadata": {
    "deletable": false,
    "editable": false
   },
   "source": [
    "### Aufgabe 1 - Fünf Würfel\n",
    "\n",
    "Die Funktion `throw` im Modul `dice` wirft einen Würfel und gibt eine Zahl zwischen 1 und 6 zurück.\n",
    "\n",
    "Schreiben Sie ein Programm, dass den Würfel 5 mal wirft und die Würfe mit einem einzigen Befehl in folgendem Format ausgibt:\n",
    "\n",
    "```text\n",
    "    Sie haben gewürfelt: 5 3 6 3 2\n",
    "```\n",
    "\n",
    "Zusätzlich soll das Programm die durchschnittlich geworfenen Augen berechnen und ausgeben:\n",
    "\n",
    "```text\n",
    "    Ihre durchschnittliche Zahl an gewürfelten Augen beträgt: 3.8\n",
    "```\n",
    "\n",
    "*Hinweis:* Verwenden Sie zur Lösung zunächst keine Listen."
   ]
  },
  {
   "cell_type": "code",
   "execution_count": null,
   "metadata": {
    "tags": []
   },
   "outputs": [],
   "source": [
    "import dice\n",
    "\n",
    "# Beispiel, wie throw() aus dem Modul dice aufgerufen werden kann\n",
    "\n",
    "print(dice.throw())"
   ]
  },
  {
   "cell_type": "code",
   "execution_count": 38,
   "metadata": {},
   "outputs": [
    {
     "name": "stdout",
     "output_type": "stream",
     "text": [
      "Sie haben gewürfelt: \n",
      "15431\n",
      "\n",
      "Ihre durchschnittliche Zahl an gewürfelten Augen beträgt: 0.8\n"
     ]
    }
   ],
   "source": [
    "# Meine Lösung\n",
    "\n",
    "import dice \n",
    "# dice module macht einfach: \n",
    "    # def throw()\n",
    "        # return random.randint(1, 6)\n",
    "\n",
    "# Beispiel, wie throw() aus dem Modul dice aufgerufen werden kann\n",
    "\n",
    "print('Sie haben gewürfelt: ')\n",
    "\n",
    "for wurf in range(5):\n",
    "    print(dice.throw(), end='')\n",
    "\n",
    "durschnitt = wurf / 5  \n",
    "\n",
    "print('\\n')\n",
    "print(f'Ihre durchschnittliche Zahl an gewürfelten Augen beträgt: {durschnitt}')     \n",
    "\n",
    " "
   ]
  },
  {
   "cell_type": "code",
   "execution_count": 63,
   "metadata": {},
   "outputs": [
    {
     "ename": "TypeError",
     "evalue": "unsupported operand type(s) for +=: 'NoneType' and 'function'",
     "output_type": "error",
     "traceback": [
      "\u001b[0;31m---------------------------------------------------------------------------\u001b[0m",
      "\u001b[0;31mTypeError\u001b[0m                                 Traceback (most recent call last)",
      "\u001b[1;32m/Users/lucasmouette/Documents/muc.dai/2023-2024/winter_semester_2023/ct/repos/ct-ws2023-students/vorlesung/10_listen_und_tupel/10_listen_und_tupel.ipynb Cell 6\u001b[0m line \u001b[0;36m1\n\u001b[1;32m     <a href='vscode-notebook-cell:/Users/lucasmouette/Documents/muc.dai/2023-2024/winter_semester_2023/ct/repos/ct-ws2023-students/vorlesung/10_listen_und_tupel/10_listen_und_tupel.ipynb#X30sZmlsZQ%3D%3D?line=12'>13</a>\u001b[0m     wurf \u001b[39m=\u001b[39m throw\n\u001b[1;32m     <a href='vscode-notebook-cell:/Users/lucasmouette/Documents/muc.dai/2023-2024/winter_semester_2023/ct/repos/ct-ws2023-students/vorlesung/10_listen_und_tupel/10_listen_und_tupel.ipynb#X30sZmlsZQ%3D%3D?line=13'>14</a>\u001b[0m     text \u001b[39m+\u001b[39m\u001b[39m=\u001b[39m \u001b[39mstr\u001b[39m(wurf) \u001b[39m+\u001b[39m \u001b[39m'\u001b[39m\u001b[39m \u001b[39m\u001b[39m'\u001b[39m\n\u001b[0;32m---> <a href='vscode-notebook-cell:/Users/lucasmouette/Documents/muc.dai/2023-2024/winter_semester_2023/ct/repos/ct-ws2023-students/vorlesung/10_listen_und_tupel/10_listen_und_tupel.ipynb#X30sZmlsZQ%3D%3D?line=14'>15</a>\u001b[0m     augen_gesamt \u001b[39m+\u001b[39;49m\u001b[39m=\u001b[39;49m wurf\n\u001b[1;32m     <a href='vscode-notebook-cell:/Users/lucasmouette/Documents/muc.dai/2023-2024/winter_semester_2023/ct/repos/ct-ws2023-students/vorlesung/10_listen_und_tupel/10_listen_und_tupel.ipynb#X30sZmlsZQ%3D%3D?line=16'>17</a>\u001b[0m \u001b[39mprint\u001b[39m(text)\n\u001b[1;32m     <a href='vscode-notebook-cell:/Users/lucasmouette/Documents/muc.dai/2023-2024/winter_semester_2023/ct/repos/ct-ws2023-students/vorlesung/10_listen_und_tupel/10_listen_und_tupel.ipynb#X30sZmlsZQ%3D%3D?line=17'>18</a>\u001b[0m \u001b[39mprint\u001b[39m(\u001b[39mf\u001b[39m\u001b[39m'\u001b[39m\u001b[39mMittlere Augen: \u001b[39m\u001b[39m{\u001b[39;00maugen_gesamt\u001b[39m \u001b[39m\u001b[39m/\u001b[39m\u001b[39m \u001b[39m\u001b[39m5\u001b[39m\u001b[39m}\u001b[39;00m\u001b[39m'\u001b[39m) \n",
      "\u001b[0;31mTypeError\u001b[0m: unsupported operand type(s) for +=: 'NoneType' and 'function'"
     ]
    }
   ],
   "source": [
    "# Muster Lösung\n",
    "\n",
    "import random\n",
    "\n",
    "def throw():\n",
    "    return random.randint(1, 6)\n",
    "\n",
    "# schönere Lösung\n",
    "\n",
    "text = 'Sie haben gewürfelt: '\n",
    "for i in range(5):\n",
    "    wurf = throw\n",
    "    text += str(wurf) + ' '\n",
    "    augen_gesamt += wurf\n",
    "\n",
    "print(text)\n",
    "print(f'Mittlere Augen: {augen_gesamt / 5}') "
   ]
  },
  {
   "cell_type": "code",
   "execution_count": 58,
   "metadata": {},
   "outputs": [
    {
     "name": "stdout",
     "output_type": "stream",
     "text": [
      "Würfe: 2, 1, 3, 2, 2\n"
     ]
    }
   ],
   "source": [
    "# mögliche Lösung\n",
    "\n",
    "wurf1 = throw()\n",
    "wurf2 = throw()\n",
    "wurf3 = throw()\n",
    "wurf4 = throw()\n",
    "wurf5 = throw()\n",
    "\n",
    "print(f'Würfe: {wurf1}, {wurf2}, {wurf3}, {wurf4}, {wurf5}')  "
   ]
  },
  {
   "cell_type": "code",
   "execution_count": null,
   "metadata": {},
   "outputs": [],
   "source": [
    "# Lösung mit Liste\n",
    "\n",
    "# beste Lösung\n",
    "\n",
    "wuerfe = []\n",
    "for i in range(5):\n",
    "    wuerfe.append(throw())\n",
    "\n",
    "summe = 0\n",
    "for wurf in wuerfe:\n",
    "    summe += wurf\n",
    "\n",
    "mittelwert = summe / len(wuerfe) \n",
    "print(mittelwert)"
   ]
  },
  {
   "cell_type": "code",
   "execution_count": 56,
   "metadata": {},
   "outputs": [
    {
     "name": "stdout",
     "output_type": "stream",
     "text": [
      "Es sind 4 Dinge einzukaufen:\n",
      "\n",
      "1 Kiste Bier: ✅\n",
      "Chips und anderes Krackerzeug: ✅\n",
      "Konfetti: ✅\n",
      "Saft: ✅\n"
     ]
    }
   ],
   "source": [
    "# Beispiel für Liste\n",
    "\n",
    "einkaufsliste = []\n",
    "\n",
    "einkaufsliste.append('1 Kiste Bier') # Element 0\n",
    "einkaufsliste.append('Chips') # Element 1\n",
    "einkaufsliste.append('Konfetti') # Element 2\n",
    "einkaufsliste.append('Saft') # Element 3\n",
    "\n",
    "einkaufsliste[1] += ' und anderes Krackerzeug' # hiermit kann ich Innhalt zu einem bestimmten Element in der Liste\n",
    "\n",
    "print(f'Es sind {len(einkaufsliste)} Dinge einzukaufen:\\n') # so kann ich die Länge der Liste ausgeben\n",
    "\n",
    "for item in einkaufsliste:\n",
    "    print(f'{item}: ✅')\n",
    "# besser als print(einkaufsliste), sonst kommen alle elemente in [] und in einer Zeile raus"
   ]
  },
  {
   "cell_type": "markdown",
   "metadata": {},
   "source": [
    "***"
   ]
  },
  {
   "cell_type": "markdown",
   "metadata": {
    "deletable": false,
    "editable": false
   },
   "source": [
    "### Aufgabe 2 - 1, 2 oder 3\n",
    "\n",
    "Gegeben ist eine Liste mit Zahlen. \n",
    "\n",
    "Wählen Sie mit Hilfe des Index Operators `[]` die Elemente so aus, dass die gewünschte Ausgabe erzeugt wird."
   ]
  },
  {
   "cell_type": "code",
   "execution_count": 76,
   "metadata": {
    "tags": []
   },
   "outputs": [],
   "source": [
    "liste_mit_zahlen = [1, 2, 3, 4, 5, 6, 7, 8, 9]"
   ]
  },
  {
   "cell_type": "code",
   "execution_count": 66,
   "metadata": {
    "tags": []
   },
   "outputs": [
    {
     "name": "stdout",
     "output_type": "stream",
     "text": [
      "5\n"
     ]
    }
   ],
   "source": [
    "# 5\n",
    "print(liste_mit_zahlen[4])"
   ]
  },
  {
   "cell_type": "code",
   "execution_count": 72,
   "metadata": {
    "tags": []
   },
   "outputs": [
    {
     "name": "stdout",
     "output_type": "stream",
     "text": [
      "9\n"
     ]
    }
   ],
   "source": [
    "# 9\n",
    "print(liste_mit_zahlen[-1])"
   ]
  },
  {
   "cell_type": "code",
   "execution_count": 79,
   "metadata": {
    "tags": []
   },
   "outputs": [
    {
     "name": "stdout",
     "output_type": "stream",
     "text": [
      "[1, 2, 3]\n"
     ]
    }
   ],
   "source": [
    "# 1, 2, 3\n",
    "print(liste_mit_zahlen[0:3])"
   ]
  },
  {
   "cell_type": "code",
   "execution_count": 81,
   "metadata": {
    "tags": []
   },
   "outputs": [
    {
     "name": "stdout",
     "output_type": "stream",
     "text": [
      "[4, 5, 6]\n"
     ]
    }
   ],
   "source": [
    "# 4, 5, 6\n",
    "print(liste_mit_zahlen[3:6])"
   ]
  },
  {
   "cell_type": "code",
   "execution_count": 80,
   "metadata": {
    "tags": []
   },
   "outputs": [
    {
     "name": "stdout",
     "output_type": "stream",
     "text": [
      "[2, 4, 6, 8]\n"
     ]
    }
   ],
   "source": [
    "# 2, 4, 6, 8\n",
    "print(liste_mit_zahlen[1:8:2])"
   ]
  },
  {
   "cell_type": "markdown",
   "metadata": {},
   "source": [
    "***"
   ]
  },
  {
   "cell_type": "markdown",
   "metadata": {
    "deletable": false,
    "editable": false
   },
   "source": [
    "### Aufgabe 3 - Der Würfler\n",
    "\n",
    "Schreiben Sie eine Funktion `wuerfler()`. Die Funktion soll eine Liste mit `n` Würfelergebnissen erzeugen und diese zurückliefern. Die Anzahl `n` der gewünschten Würfelergebnisse soll der Funktion als Parameter übergeben werden. \n",
    "\n",
    "Schreiben Sie eine weitere Funktion `print_wuerfelergebnisse`, welcher die Liste übergeben werden kann. Die Funktion soll die Liste in folgendem Format ausgeben:\n",
    "\n",
    "```text\n",
    "   Wurf 1: 3\n",
    "   Wurf 2: 6\n",
    "   Wurf ...\n",
    "```\n",
    "\n",
    "Nutzen Sie für die Ausgabe `enumerate()`.\n"
   ]
  },
  {
   "cell_type": "code",
   "execution_count": null,
   "metadata": {
    "tags": []
   },
   "outputs": [],
   "source": [
    "import dice # Bibliothek dice importieren\n",
    "\n",
    "# Beispielcode, für einen Würfelwurf\n",
    "print(f\"Sie haben gewürfelt: {dice.throw()}\")\n",
    "\n",
    "...\n",
    "\n",
    "liste = wuerfler(42)\n",
    "print_wuerfelergebnisse(liste)"
   ]
  },
  {
   "cell_type": "markdown",
   "metadata": {
    "deletable": false,
    "editable": false
   },
   "source": [
    "### Aufgabe 4 - Comprehensions\n",
    "\n",
    "**Wichtig:** Führen Sie zunächst diese Zelle aus, die eine Liste mit 10 Würfelwürfen erzeugt"
   ]
  },
  {
   "cell_type": "code",
   "execution_count": null,
   "metadata": {
    "deletable": false,
    "editable": false
   },
   "outputs": [],
   "source": [
    "import dice\n",
    "\n",
    "numbers = []\n",
    "for i in range(10):\n",
    "    numbers.append(dice.throw())\n",
    "\n",
    "print(numbers)"
   ]
  },
  {
   "cell_type": "markdown",
   "metadata": {
    "deletable": false,
    "editable": false
   },
   "source": [
    "Lesen und verstehen Sie nun, was folgende Programme machen. Vereinfachen Sie dann die Programme mit Hilfe von List Comprehension."
   ]
  },
  {
   "cell_type": "code",
   "execution_count": null,
   "metadata": {
    "tags": []
   },
   "outputs": [],
   "source": [
    "even_numbers = []\n",
    "for i in numbers:\n",
    "    if (numbers[i] % 2 == 0):\n",
    "        even_numbers.append(numbers[i])\n",
    "\n",
    "\n",
    "print(even_numbers)"
   ]
  },
  {
   "cell_type": "code",
   "execution_count": null,
   "metadata": {
    "tags": []
   },
   "outputs": [],
   "source": [
    "zero_or_six = []\n",
    "for i in numbers:\n",
    "    if numbers[i] == 6:\n",
    "        zero_or_six.append(6)\n",
    "    else:\n",
    "        zero_or_six.append(0)\n",
    "\n",
    "\n",
    "print(zero_or_six)"
   ]
  }
 ],
 "metadata": {
  "kernelspec": {
   "display_name": "Python 3",
   "language": "python",
   "name": "python3"
  },
  "language_info": {
   "codemirror_mode": {
    "name": "ipython",
    "version": 3
   },
   "file_extension": ".py",
   "mimetype": "text/x-python",
   "name": "python",
   "nbconvert_exporter": "python",
   "pygments_lexer": "ipython3",
   "version": "3.11.5"
  },
  "otter": {
   "OK_FORMAT": true,
   "assignment_name": "10_listen_und_tupel",
   "tests": {}
  }
 },
 "nbformat": 4,
 "nbformat_minor": 2
}
