{
 "cells": [
  {
   "cell_type": "code",
   "execution_count": null,
   "metadata": {
    "deletable": false,
    "editable": false
   },
   "outputs": [],
   "source": [
    "# Initialize Otter\n",
    "import otter\n",
    "grader = otter.Notebook(\"05_erste_befehle.ipynb\")"
   ]
  },
  {
   "cell_type": "markdown",
   "metadata": {},
   "source": [
    "# Computational Thinking - WS 2023/2024\n",
    "\n",
    "## Erste Befehle\n",
    "\n",
    "Autor: Prof. Dr.-Ing. Benedikt Dietrich"
   ]
  },
  {
   "cell_type": "markdown",
   "metadata": {},
   "source": [
    "***"
   ]
  },
  {
   "cell_type": "markdown",
   "metadata": {
    "deletable": false,
    "editable": false
   },
   "source": [
    "**Aufgabe 1** \n",
    "\n",
    "Versuchen Sie folgende Fragen durch Experimente im Notebook zu beantworten:\n",
    "\n",
    "* Beachtet Python Punkt-vor-Strich?\n",
    "* Können Sie in Python, wie aus der Mathematik gewohnt, Klammern verwenden?"
   ]
  },
  {
   "cell_type": "code",
   "execution_count": null,
   "metadata": {
    "tags": []
   },
   "outputs": [],
   "source": [
    "# Put your code here\n",
    "\n",
    "..."
   ]
  }
 ],
 "metadata": {
  "kernelspec": {
   "display_name": "Python 3",
   "language": "python",
   "name": "python3"
  },
  "language_info": {
   "name": "python",
   "version": "3.11.5"
  },
  "otter": {
   "OK_FORMAT": true,
   "assignment_name": "05_erste_befehle",
   "tests": {}
  }
 },
 "nbformat": 4,
 "nbformat_minor": 2
}
