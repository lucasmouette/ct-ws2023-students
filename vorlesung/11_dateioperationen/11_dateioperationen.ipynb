{
 "cells": [
  {
   "cell_type": "code",
   "execution_count": null,
   "metadata": {
    "deletable": false,
    "editable": false
   },
   "outputs": [],
   "source": [
    "# Initialize Otter\n",
    "import otter\n",
    "grader = otter.Notebook(\"11_dateioperationen.ipynb\")"
   ]
  },
  {
   "cell_type": "markdown",
   "metadata": {},
   "source": [
    "# Computational Thinking WS2022/23\n",
    "**Autoren:** \n",
    "+ Prof. Dr. Benedikt Dietrich"
   ]
  },
  {
   "cell_type": "markdown",
   "metadata": {},
   "source": [
    "## 1. Lottostatistik"
   ]
  },
  {
   "cell_type": "markdown",
   "metadata": {},
   "source": [
    "Anbei finden Sie eine Datei `lottozahlen.csv`, welche die Lottozahlen aller Ziehungen seit der ersten Ziehung am 09.10.1955 beinhaltet. \n",
    "\n",
    "Die Daten liegen im Comma-Separated-Value Format vor:\n",
    "\n",
    "```text\n",
    "    09.10.1955,3,12,13,16,23,41\n",
    "    16.10.1955,3,12,18,30,32,49\n",
    "    23.10.1955,12,14,23,24,34,36\n",
    "    30.10.1955,4,13,23,30,36,44\n",
    "    06.11.1955,5,6,31,39,44,49\n",
    "    13.11.1955,6,18,22,29,37,44\n",
    "    ...\n",
    "```\n",
    "\n",
    "In dieser Aufgabe sollen Sie untersuchen, ob es bei den Ziehungen mit rechten Dingen zugeht, oder ob manche Zahlen häufiger sind als andere.\n",
    "Hierfür sollen zwei Funktionen entwickelt werden:\n",
    "\n",
    "1. `read_lotto_numbers()`: Öffnet die Datei, liest die Lottozahlen aller Ziehungen in eine zweidimensionale Liste ein, schließt die Datei wieder und liefert die zweidimensionale Liste zurück.\n",
    "1. `compute_statistics(all_numbers)`: Wertet die Daten aus und liefert eine Liste mit den Wahrscheinlichkeiten der einzelnen Zahlen von 1 bis 49 zurück.\n",
    "1. `print_statistics(statistics)`: Gibt die mit `statistics` übergebenen Daten in folgendem Format aus:\n",
    "\n",
    "```text\n",
    "    P(x = 1) = 0.020872332459752903\n",
    "    P(x = 2) = 0.02099712966429552\n",
    "    P(x = 3) = 0.02134032197678772\n",
    "    P(x = 4) = 0.02105952826656683\n",
    "    P(x = 5) = 0.020217147135904157\n",
    "    P(x = 6) = 0.022182703107450394\n",
    "    P(x = 7) = 0.02065393735180332\n",
    "    P(x = 8) = 0.020029951329090228\n",
    "    P(x = 9) = 0.020965930363159864\n",
    "    ...\n",
    "```\n",
    "\n",
    "Die Funktion soll zusätzlich die Zahl ausgeben, die man statistisch gesehen auf jeden Fall tippen sollte:\n",
    "\n",
    "```text\n",
    "    Die Zahl mit der höchsten Wahrscheinlichkeit ist die Zahl: ?\n",
    "```\n",
    "\n",
    "*Hinweis: Verwenden Sie für diese Aufgabe nur Listen und keine besonderen Bibliotheken wie `pandas` und `numpy`. Ziel ist es nicht, die effizienteste und kürzeste Lösung zu entwickeln, sondern den Umgang mit Listen zu üben.*"
   ]
  },
  {
   "cell_type": "markdown",
   "metadata": {
    "deletable": false,
    "editable": false
   },
   "source": [
    "### 1.1 Datei öffnen und Inhalt lesen\n",
    "\n",
    "Programmieren Sie die Funktion `read_lotto_numbers(filename)`. Die Funktion soll zunächst einfach nur die Datei öffnen (mit Hilfe von `with...`), Zeile für Zeilen der Datei lesen und direkt ausgeben."
   ]
  },
  {
   "cell_type": "code",
   "execution_count": null,
   "metadata": {
    "tags": []
   },
   "outputs": [],
   "source": [
    "..."
   ]
  },
  {
   "cell_type": "code",
   "execution_count": null,
   "metadata": {
    "tags": []
   },
   "outputs": [],
   "source": [
    "# Soll die Datei öffnen und den Inhalt Zeile für Zeile ausgeben\n",
    "read_lotto_numbers(\"lottozahlen.csv\")"
   ]
  },
  {
   "cell_type": "markdown",
   "metadata": {
    "deletable": false,
    "editable": false
   },
   "source": [
    "### 1.2 Daten interpretieren\n",
    "\n",
    "Nun sollen die Daten interpretiert werden. \n",
    "\n",
    "1. Lesen Sie Zeile für Zeile der Datei ein.\n",
    "1. Verwenden Sie die Funktion `strip()`, um den Zeilenumbruch am Ende einer eingelesenen Zeile zu entfernen.\n",
    "1. Verwenden Sie die Funktion `split()`, um den String mit den durch Kommas getrennte Werte in eine Liste an Strings aufzuteilen.\n",
    "1. Verwenden Sie explizite Typumwandlung in Kombination mit List Comprehension, um die Liste an Strings in eine Liste an ganzen Zahlen umzuwandeln.\n",
    "1. Fügen Sie diese Liste mit ganzen Zahlen einer Ziehung zu einer zweidimensionalen Liste mittels `append()` hinzu.\n",
    "1. Die Funktion soll die zweidimensionale Liste am Ende zurückliefern.\n",
    "\n",
    "Die Daten sollten dann so vorliegen:\n",
    "\n",
    "```text\n",
    "[[3, 12, 13, 16, 23, 41], [3, 12, 18, 30, 32, 49], [12, 14, 23, 24, 34, 36], ...\n",
    "```"
   ]
  },
  {
   "cell_type": "code",
   "execution_count": null,
   "metadata": {
    "tags": []
   },
   "outputs": [],
   "source": []
  },
  {
   "cell_type": "code",
   "execution_count": null,
   "metadata": {
    "tags": []
   },
   "outputs": [],
   "source": [
    "# Soll die Datei öffnen und alle Zahlen als 2D-Liste zurückliefern\n",
    "numbers = read_lotto_numbers(filename=\"lottozahlen.csv\")\n",
    "print(numbers)"
   ]
  },
  {
   "cell_type": "markdown",
   "metadata": {
    "deletable": false,
    "editable": false
   },
   "source": [
    "### 1.3 Daten auswerten\n"
   ]
  },
  {
   "cell_type": "markdown",
   "metadata": {
    "deletable": false,
    "editable": false
   },
   "source": [
    "Werten Sie nun die eingelesenen Daten wie eingangs beschrieben in der Funktion `compute_statistics(numbers)` aus. `numbers` beinhaltet die zweidimensionale Liste aller Lottozahlen, die von `read_lotto_numbers` zurückgeliefert wird.\n",
    "\n",
    "Gehen Sie wie folgt vor:\n",
    "\n",
    "1. Berechnen Sie die Häufigkeiten der einzelnen Zahlen.\n",
    "1. Berechnen Sie die Wahrscheinlichkeiten der einzelnen Zahlen.\n",
    "1. Liefern Sie die Wahrscheinlichkeiten der Zahlen 1 bis 49 als eindimensionale Liste zurück."
   ]
  },
  {
   "cell_type": "code",
   "execution_count": null,
   "metadata": {
    "tags": []
   },
   "outputs": [],
   "source": [
    "..."
   ]
  },
  {
   "cell_type": "code",
   "execution_count": null,
   "metadata": {
    "tags": []
   },
   "outputs": [],
   "source": [
    "numbers = read_lotto_numbers(\"lottozahlen.csv\")\n",
    "probabilities = compute_statistics(numbers)\n",
    "print(probabilities)"
   ]
  },
  {
   "cell_type": "markdown",
   "metadata": {
    "deletable": false,
    "editable": false
   },
   "source": [
    "### 1.4 Ergebnisse als Text ausgeben\n",
    "\n",
    "Schreiben Sie nun eine Funktion `print_statistics(statistics)`, welcher die Liste mit den Wahrscheinlichkeiten der Zahlen von 1 bis 49 übergeben wird. Die Funktion soll die Daten wie eingangs gezeigt ausgeben. \n",
    "\n",
    "Außerdem soll die Funktion die wahrscheinlichste Zahl ausgeben. Hierfür können Sie z.B. die Funktion `index()` verwenden."
   ]
  },
  {
   "cell_type": "code",
   "execution_count": null,
   "metadata": {
    "deletable": false,
    "editable": false
   },
   "outputs": [],
   "source": [
    "# Beispiel zur Funktion index()\n",
    "values = [1, 2, 7, 4, 232]\n",
    "print(values.index(7))"
   ]
  },
  {
   "cell_type": "code",
   "execution_count": null,
   "metadata": {
    "tags": []
   },
   "outputs": [],
   "source": [
    "def print_statistics(statistics):\n",
    "    for number, probability in enumerate(statistics):\n",
    "        print(f\"P(x = {number+1}) = {probability}\")\n",
    "\n",
    "    print(f\"Die wahrscheinlichste Zahl ist die {probabilities.index(max(probabilities))+1} mit einer Wahrscheinlichkeit von {max(probabilities)}\")"
   ]
  },
  {
   "cell_type": "code",
   "execution_count": null,
   "metadata": {
    "tags": []
   },
   "outputs": [],
   "source": [
    "numbers = read_lotto_numbers(\"lottozahlen.csv\")\n",
    "probabilities = compute_statistics(numbers)\n",
    "print_statistics(probabilities)"
   ]
  },
  {
   "cell_type": "markdown",
   "metadata": {
    "deletable": false,
    "editable": false
   },
   "source": [
    "### 1.5 Ergebnisse in Datei schreiben\n",
    "\n",
    "Schreiben Sie nun noch eine Funktion write_statistics(filename, statistics), die die Auswertung in eine CSV-Datei namens `filename` schreibt. Die Daten sollen hierbei wie folgt ausgegeben werden:\n",
    "\n",
    "```text\n",
    "    1,0.020872332459752903\n",
    "    2,0.02099712966429552\n",
    "    3,0.02134032197678772\n",
    "    4,0.02105952826656683\n",
    "    5,0.020217147135904157\n",
    "    6,0.022182703107450394\n",
    "    7,0.02065393735180332\n",
    "    ...\n",
    "```"
   ]
  },
  {
   "cell_type": "code",
   "execution_count": null,
   "metadata": {
    "tags": []
   },
   "outputs": [],
   "source": [
    "..."
   ]
  },
  {
   "cell_type": "code",
   "execution_count": null,
   "metadata": {
    "tags": []
   },
   "outputs": [],
   "source": [
    "numbers = read_lotto_numbers(\"lottozahlen.csv\")\n",
    "probabilities = compute_statistics(numbers)\n",
    "write_statistics(\"auswertung.csv\", probabilities)"
   ]
  }
 ],
 "metadata": {
  "kernelspec": {
   "display_name": "Python 3.10.4 ('ct')",
   "language": "python",
   "name": "python3"
  },
  "language_info": {
   "codemirror_mode": {
    "name": "ipython",
    "version": 3
   },
   "file_extension": ".py",
   "mimetype": "text/x-python",
   "name": "python",
   "nbconvert_exporter": "python",
   "pygments_lexer": "ipython3",
   "version": "3.10.12"
  },
  "otter": {
   "OK_FORMAT": false,
   "assignment_name": "11_dateioperationen",
   "tests": {}
  },
  "vscode": {
   "interpreter": {
    "hash": "881d337900756e70a76eada1facb65e60ce30b1cc249c92e2adf60a26cf555a8"
   }
  }
 },
 "nbformat": 4,
 "nbformat_minor": 2
}
