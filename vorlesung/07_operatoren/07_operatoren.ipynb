{
 "cells": [
  {
   "cell_type": "code",
   "execution_count": 1,
   "metadata": {
    "deletable": false,
    "editable": false
   },
   "outputs": [],
   "source": [
    "# Initialize Otter\n",
    "import otter\n",
    "grader = otter.Notebook(\"07_operatoren.ipynb\")"
   ]
  },
  {
   "cell_type": "markdown",
   "metadata": {},
   "source": [
    "# Computational Thinking - WS 2023/2024\n",
    "\n",
    "## Operatoren\n",
    "\n",
    "Autor: Prof. Dr.-Ing. Benedikt Dietrich"
   ]
  },
  {
   "cell_type": "markdown",
   "metadata": {},
   "source": [
    "## Arithmetische Operatoren"
   ]
  },
  {
   "cell_type": "markdown",
   "metadata": {
    "deletable": false,
    "editable": false
   },
   "source": [
    "### Aufgabe 1 - Wechselstube\n",
    "\n",
    "In der Variable `betrag` ist ein zu zahlender Geldbetrag enthalten. Berechnen Sie die ideale Münz-Stückelung, d.h. wie der Betrag mit einer minimalen Zahl an Münzen bezahlt werden kann. \n",
    "\n",
    "*Hinweis: Gleitkommazahlen sind mit einer gewissen Ungenauigkeit behaftet. Daher ist es empfehlenswert, Geldbeträge am Rechner mit einem Datentyp für ganze Zahlen zu speichern. Rechnen Sie hierfür den Betrag in Euro `betrag_in_euro` zunächst in Cent um und führen Sie  eine explizite Typumwandlung in einen ganzzahligen Datentyp um.*"
   ]
  },
  {
   "cell_type": "code",
   "execution_count": 53,
   "metadata": {
    "tags": []
   },
   "outputs": [
    {
     "name": "stdout",
     "output_type": "stream",
     "text": [
      "Anzahl 2 Euro: 5\n",
      "Anzahl 1 Euro: 1\n",
      "Anzahl 50 cent: 1\n",
      "Anzahl 20 cent: 0\n",
      "Anzahl 10 cent: 0\n",
      "Anzahl 5 cent: 1\n",
      "Anzahl 2 cent: 0\n",
      "Anzahl 1 cent: 0\n"
     ]
    }
   ],
   "source": [
    "betrag_in_euro = 11.55\n",
    "betrag_in_cent = betrag_in_euro * 100\n",
    "betrag_in_cent = int(betrag_in_cent)\n",
    "\n",
    "zwei_euro_muenzen = betrag_in_cent // 200\n",
    "betrag_in_cent = betrag_in_cent - zwei_euro_muenzen * 200 # hier nimmt man 1155 und zieht zwei_euro_muenzen ab und bekommt dann 155\n",
    "\n",
    "ein_euro_muenzen = betrag_in_cent // 100\n",
    "betrag_in_cent = betrag_in_cent - ein_euro_muenzen * 100\n",
    "\n",
    "fuenfzig_cent_muenzen = betrag_in_cent // 50\n",
    "betrag_in_cent = betrag_in_cent - fuenfzig_cent_muenzen * 50\n",
    "\n",
    "zwanzig_cent_muenzen = betrag_in_cent // 20\n",
    "betrag_in_cent = betrag_in_cent - zwanzig_cent_muenzen * 20\n",
    "\n",
    "zehn_cent_muenzen = betrag_in_cent // 10\n",
    "betrag_in_cent = betrag_in_cent - zehn_cent_muenzen * 10\n",
    "\n",
    "fuenf_cent_muenzen = betrag_in_cent // 5\n",
    "betrag_in_cent = betrag_in_cent - fuenf_cent_muenzen * 5\n",
    "\n",
    "zwei_cent_muenzen = betrag_in_cent // 2\n",
    "betrag_in_cent = betrag_in_cent - zwei_cent_muenzen * 2\n",
    "\n",
    "ein_cent_muenzen = betrag_in_cent // 1\n",
    "betrag_in_cent = betrag_in_cent - ein_cent_muenzen * 1\n",
    "\n",
    "print(f\"Anzahl 2 Euro: {zwei_euro_muenzen}\")\n",
    "print(f\"Anzahl 1 Euro: {ein_euro_muenzen}\")\n",
    "print(f\"Anzahl 50 cent: {fuenfzig_cent_muenzen}\")\n",
    "print(f\"Anzahl 20 cent: {zwanzig_cent_muenzen}\")\n",
    "print(f\"Anzahl 10 cent: {zehn_cent_muenzen}\")\n",
    "print(f\"Anzahl 5 cent: {fuenf_cent_muenzen}\")\n",
    "print(f\"Anzahl 2 cent: {zwei_cent_muenzen}\")\n",
    "print(f\"Anzahl 1 cent: {ein_cent_muenzen}\")"
   ]
  },
  {
   "cell_type": "markdown",
   "metadata": {
    "deletable": false,
    "editable": false
   },
   "source": [
    "### Aufgabe 2 - Würfeln\n",
    "\n",
    "Die Funktion `random.random()` liefert eine zufällige Gleitkommazahl zwischen 0.0 und 1.0 zurück. Überlegen Sie sich, wie Sie daraus eine Zahl zwischen 1 und 6 berechnen können. Schreiben Sie Code, der nach der Ausführung die Würfelaugen in folgendem Format ausgibt:\n",
    "\n",
    "```text\n",
    "Sie haben gewürfelt: 4\n",
    "```\n",
    "\n",
    "wobei die 4 durch eine zufällige Zahl zwischen 1 und 6 zu ersetzen ist. "
   ]
  },
  {
   "cell_type": "code",
   "execution_count": 27,
   "metadata": {
    "tags": []
   },
   "outputs": [
    {
     "name": "stdout",
     "output_type": "stream",
     "text": [
      "2\n"
     ]
    }
   ],
   "source": [
    "from random import random\n",
    "\n",
    "zufallszahl = random()\n",
    "print(zufallszahl)"
   ]
  },
  {
   "cell_type": "code",
   "execution_count": null,
   "metadata": {},
   "outputs": [],
   "source": [
    "# Meine Lösung\n",
    "\n",
    "# durch das int() macht er nur noch Zahlen zwischen 1 & 6 \n",
    "#help(Funktion) = gibt die Erklärung\n",
    "\n",
    "zufallszahl = int(random() * 6) + 1\n",
    "print(zufallszahl)"
   ]
  },
  {
   "cell_type": "markdown",
   "metadata": {},
   "source": [
    "Hinweis: Wir haben die Funktion `random()` hier nur zur Übung verwendet. \n",
    "\n",
    "In Python kann man ganzzahlige Zufallszahlen im Bereich von $a <= x <= b$ direkt mit Hilfe der Funktion `random.randint(a, b)` erhalten, wie folgender Code zeigt:"
   ]
  },
  {
   "cell_type": "code",
   "execution_count": null,
   "metadata": {},
   "outputs": [],
   "source": [
    "from random import randint\n",
    "print(randint(10, 15)) # prints a random number between 10 and 15"
   ]
  },
  {
   "cell_type": "markdown",
   "metadata": {
    "deletable": false,
    "editable": false
   },
   "source": [
    "### Aufgabe 3 - Uhrzeit ausgeben\n",
    "\n",
    "Die Variable `current_time_seconds` enthält die vergangenen Sekunden seit einer bestimmten Aktion (z.B. einem Tastendruck). Berechnen Sie die Stunden, Minuten und Sekunden die seit der Aktion vergangen sind und geben Sie die Zeit mit Hilfe des vorgegebenen Befehls im Format hh:mm:ss aus (z.B. 03:25:45) aus.\n",
    "\n",
    "\n"
   ]
  },
  {
   "cell_type": "code",
   "execution_count": 33,
   "metadata": {
    "tags": []
   },
   "outputs": [
    {
     "name": "stdout",
     "output_type": "stream",
     "text": [
      "00:00:00\n"
     ]
    }
   ],
   "source": [
    "current_time_seconds = 12345\n",
    "hours = 0\n",
    "minutes = 0\n",
    "seconds = 0\n",
    "\n",
    "\n",
    "...\n",
    "\n",
    "print(f\"{hours:02d}:{minutes:02d}:{seconds:02d}\")"
   ]
  },
  {
   "cell_type": "code",
   "execution_count": 47,
   "metadata": {},
   "outputs": [
    {
     "name": "stdout",
     "output_type": "stream",
     "text": [
      "03:25:45\n"
     ]
    }
   ],
   "source": [
    "# Meine Lösung\n",
    "\n",
    "# 02d bedeutet 2 Stellen und mit 0 ausgefüllt\n",
    "    # d steht für Dezimahl\n",
    "    # wenn ich 0 rauslasse füllt er es mit blank\n",
    "    # das gibt mir die Gesamtbreite raus \n",
    "        # Bsp. pi = 3.1415\n",
    "        # print(f'{pi:10f}')\n",
    "        # hier gibt er mir blank blank 3.141500\n",
    "\n",
    "        # print(f'{pi:10.2f}')\n",
    "        # hier gibt er mir blank blank 3.14 (rundet er auf)\n",
    "\n",
    "current_time_seconds = 12345\n",
    "hours = 0\n",
    "minutes = 0\n",
    "seconds = 0\n",
    "\n",
    "\n",
    "hours = current_time_seconds // 3600 # wie viele Sekunden in einer Stunde\n",
    "rest_time_seconds = current_time_seconds % 3600\n",
    "\n",
    "minutes = rest_time_seconds // 60 # wie viel Sekunden in einer Minute\n",
    "rest_time_seconds = rest_time_seconds % 60\n",
    "\n",
    "seconds = rest_time_seconds\n",
    "\n",
    "print(f\"{hours:02d}:{minutes:02d}:{seconds:02d}\")"
   ]
  },
  {
   "cell_type": "markdown",
   "metadata": {},
   "source": [
    "## Boolesche Operatoren"
   ]
  },
  {
   "cell_type": "markdown",
   "metadata": {
    "deletable": false,
    "editable": false
   },
   "source": [
    "### Aufgabe 4\n",
    "\n",
    "Eine Bewässerungsanlage soll nur dann bewässern, wenn \n",
    "\n",
    "* die Bodenfeuchtigkeit unter 40% liegt und der Sensor OK ist,\n",
    "* es vor 11 Uhr oder nach 15 Uhr ist und\n",
    "* im Tank noch Wasser vorhanden ist.\n",
    "\n",
    "Gegeben ist eine Funktion `do_water`, welcher folgende Parameter übergeben: \n",
    "\n",
    "* `moisture`: Bodenfeuchtigkeit in Prozent als ganze Zahl (0 bis 100)\n",
    "* `is_sensor_ok`: `True` falls der Sensor ordnungsgemäß funktioniert.\n",
    "* `hour_of_the_day`: aktuelle Stunde (z.B. 14 für 14:31:23 Uhr).\n",
    "* `is_water_in_tank`: boolesche Variable. `True` bedeutet, es ist noch Wasser im Tank. \n",
    "\n",
    "Verwenden Sie diese Parameter in der Funktion als wären es Variablen mit einem Ihnen unbekannten Wert.\n",
    "\n",
    "Ändern Sie die gegebene Funktion so ab, dass basierend auf den Parametern und dem Regelwerk in der Variable `do_water` entweder `True` oder `False` steht, wobei `True` natürlich bedeutet, dass bewässert werden soll. "
   ]
  },
  {
   "cell_type": "code",
   "execution_count": 34,
   "metadata": {
    "tags": []
   },
   "outputs": [],
   "source": [
    "def do_water(moisture, is_sensor_ok, hour_of_the_day, is_water_in_tank):\n",
    "    do_water = ...\n",
    "    ...\n",
    "    return do_water"
   ]
  },
  {
   "cell_type": "code",
   "execution_count": 45,
   "metadata": {},
   "outputs": [],
   "source": [
    "# Meine Lösung\n",
    "\n",
    "def do_water(moisture, is_sensor_ok, hour_of_the_day, is_water_in_tank):\n",
    "    is_dry = moisture < 40\n",
    "    day = hour_of_the_day < 11 or hour_of_the_day >= 15\n",
    "    do_water = is_dry and is_sensor_ok and day and is_water_in_tank\n",
    "\n",
    "    return do_water"
   ]
  },
  {
   "cell_type": "markdown",
   "metadata": {
    "deletable": false,
    "editable": false
   },
   "source": [
    "Der folgende Code testet ihre Funktion auf verschiedene Kombinationen von Zuständen. Beachten Sie, dass die Tests nicht vollständig sind, sondern nur einen Teil der Funktionalität testen. \n",
    "\n",
    "Um die Tests auszuführen, führen Sie zuerst die Zelle mit Ihrer Funktion aus und danach die Zelle mit den Tests. Sollten Sie etwas an Ihrer Funktion ändern, müssen Sie beide Zellen erneut ausführen."
   ]
  },
  {
   "cell_type": "code",
   "execution_count": 46,
   "metadata": {
    "deletable": false,
    "editable": false
   },
   "outputs": [],
   "source": [
    "# Bodenfeuchtigkeit\n",
    "assert do_water(30, True, 10, True) == True\n",
    "assert do_water(39, True, 10, True) == True\n",
    "assert do_water(40, True, 10, True) == False\n",
    "\n",
    "# Sensorzustand\n",
    "assert do_water(30, False, 10, True) == False\n",
    "assert do_water(39, False, 10, True) == False\n",
    "assert do_water(40, False, 10, True) == False\n",
    "\n",
    "# Uhrzeit\n",
    "assert do_water(35, True, 10, True) == True\n",
    "assert do_water(35, True, 11, True) == False\n",
    "assert do_water(35, True, 12, True) == False\n",
    "assert do_water(35, True, 13, True) == False\n",
    "assert do_water(35, True, 14, True) == False\n",
    "assert do_water(35, True, 15, True) == True\n",
    "assert do_water(35, True, 15, True) == True\n",
    "\n",
    "# Wassertank\n",
    "assert do_water(35, True, 10, False) == False\n",
    "assert do_water(35, True, 11, False) == False\n",
    "assert do_water(35, True, 12, False) == False\n",
    "assert do_water(35, True, 13, False) == False\n",
    "assert do_water(35, True, 14, False) == False\n",
    "assert do_water(35, True, 15, False) == False\n",
    "assert do_water(35, True, 15, False) == False"
   ]
  },
  {
   "cell_type": "markdown",
   "metadata": {
    "deletable": false,
    "editable": false
   },
   "source": [
    "Für wie viele verschiedene Fälle müsste die Funktion aufgerufen werden, um diese vollständig zu testen?"
   ]
  },
  {
   "cell_type": "code",
   "execution_count": null,
   "metadata": {
    "tags": []
   },
   "outputs": [],
   "source": [
    "..."
   ]
  }
 ],
 "metadata": {
  "kernelspec": {
   "display_name": "Python 3",
   "language": "python",
   "name": "python3"
  },
  "language_info": {
   "codemirror_mode": {
    "name": "ipython",
    "version": 3
   },
   "file_extension": ".py",
   "mimetype": "text/x-python",
   "name": "python",
   "nbconvert_exporter": "python",
   "pygments_lexer": "ipython3",
   "version": "3.11.5"
  },
  "otter": {
   "OK_FORMAT": true,
   "assignment_name": "07_operatoren",
   "tests": {}
  }
 },
 "nbformat": 4,
 "nbformat_minor": 2
}
