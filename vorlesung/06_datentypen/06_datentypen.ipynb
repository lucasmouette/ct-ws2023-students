{
 "cells": [
  {
   "cell_type": "code",
   "execution_count": 11,
   "metadata": {
    "deletable": false,
    "editable": false
   },
   "outputs": [],
   "source": [
    "# Initialize Otter\n",
    "import otter\n",
    "grader = otter.Notebook(\"06_datentypen.ipynb\")"
   ]
  },
  {
   "cell_type": "markdown",
   "metadata": {},
   "source": [
    "# Computational Thinking - WS 2023/2024\n",
    "\n",
    "## Datentypen\n",
    "\n",
    "Autor: Prof. Dr.-Ing. Benedikt Dietrich"
   ]
  },
  {
   "cell_type": "markdown",
   "metadata": {
    "deletable": false,
    "editable": false
   },
   "source": [
    "### Aufgabe 1\n",
    "\n",
    "Schreiben Sie Code, der zwei Variablen `x` und `y` anlegt. Weisen Sie `x` den Wert 5 zu und `y` den Wert 2.5. Addieren Sie die beiden Variablen und speichern Sie den Wert in einer neuen Variable namens `z`. \n",
    "\n",
    "Lassen Sie sich den Datentyp von allen drei Variablen in folgendem Format ausgeben:\n",
    "\n",
    "```text\n",
    "  Datentyp von x: ...\n",
    "  Datentyp von y: ...\n",
    "  Datentyp von z: ...\n",
    "```\n",
    "\n",
    "Was können Sie beobachten?"
   ]
  },
  {
   "cell_type": "code",
   "execution_count": 15,
   "metadata": {
    "tags": []
   },
   "outputs": [
    {
     "name": "stdout",
     "output_type": "stream",
     "text": [
      "Datentyp von x: <class 'int'>\n",
      "Datentyp von y: <class 'float'>\n",
      "Datentyp von z: <class 'float'>\n"
     ]
    }
   ],
   "source": [
    "# Put your code here\n",
    "\n",
    "x = 5\n",
    "y = 2.5\n",
    "z = x + y\n",
    "\n",
    "print(f'Datentyp von x: {type(x)}')\n",
    "print(f'Datentyp von y: {type(y)}')\n",
    "print(f'Datentyp von z: {type(z)}')"
   ]
  },
  {
   "cell_type": "code",
   "execution_count": 12,
   "metadata": {
    "deletable": false,
    "editable": false
   },
   "outputs": [
    {
     "data": {
      "text/html": [
       "<p><strong><pre style='display: inline;'>q1</pre></strong> passed! 🌟</p>"
      ],
      "text/plain": [
       "q1 results: All test cases passed!"
      ]
     },
     "execution_count": 12,
     "metadata": {},
     "output_type": "execute_result"
    }
   ],
   "source": [
    "grader.check(\"q1\")"
   ]
  },
  {
   "cell_type": "markdown",
   "metadata": {
    "deletable": false,
    "editable": false
   },
   "source": [
    "### Aufgabe 2\n",
    "\n",
    "Prüfen Sie, was passiert, wenn Sie zu einer Variable vom Datentyp `string` eine Variable vom Typ `int` addieren."
   ]
  },
  {
   "cell_type": "code",
   "execution_count": 14,
   "metadata": {
    "deletable": false,
    "editable": false
   },
   "outputs": [],
   "source": [
    "x = 5\n",
    "my_text = \"Der Wert von x ist: \"\n",
    "# BEGIN SOLUTION\n",
    "result = my_text + str(x)\n",
    "# END SOLUTION"
   ]
  }
 ],
 "metadata": {
  "kernelspec": {
   "display_name": "Python 3",
   "language": "python",
   "name": "python3"
  },
  "language_info": {
   "codemirror_mode": {
    "name": "ipython",
    "version": 3
   },
   "file_extension": ".py",
   "mimetype": "text/x-python",
   "name": "python",
   "nbconvert_exporter": "python",
   "pygments_lexer": "ipython3",
   "version": "3.11.5"
  },
  "otter": {
   "OK_FORMAT": true,
   "tests": {
    "q1": {
     "name": "q1",
     "points": null,
     "suites": [
      {
       "cases": [
        {
         "code": ">>> assert x == 5, 'x hat nicht den geforderten Wert'\n",
         "hidden": false,
         "locked": false
        },
        {
         "code": ">>> assert y == 2.5, 'y hat nicht den geforderten Wert'\n",
         "hidden": false,
         "locked": false
        },
        {
         "code": ">>> assert z == x + y, 'y hat nicht den geforderten Wert'\n",
         "hidden": false,
         "locked": false
        }
       ],
       "scored": true,
       "setup": "",
       "teardown": "",
       "type": "doctest"
      }
     ]
    }
   }
  }
 },
 "nbformat": 4,
 "nbformat_minor": 2
}
