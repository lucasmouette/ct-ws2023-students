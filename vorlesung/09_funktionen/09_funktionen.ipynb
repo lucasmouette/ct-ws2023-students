{
 "cells": [
  {
   "cell_type": "code",
   "execution_count": null,
   "metadata": {
    "deletable": false,
    "editable": false
   },
   "outputs": [],
   "source": [
    "# Initialize Otter\n",
    "import otter\n",
    "grader = otter.Notebook(\"09_funktionen.ipynb\")"
   ]
  },
  {
   "cell_type": "markdown",
   "metadata": {},
   "source": [
    "# Computational Thinking - WS 2023/2024\n",
    "\n",
    "## Funktionen\n",
    "\n",
    "Autor: Prof. Dr.-Ing. Benedikt Dietrich"
   ]
  },
  {
   "cell_type": "markdown",
   "metadata": {},
   "source": [
    "***"
   ]
  },
  {
   "cell_type": "markdown",
   "metadata": {
    "deletable": false,
    "editable": false
   },
   "source": [
    "### Aufgabe 1 - Funktionsrätsel\n",
    "\n",
    "Für ein Set an Funktionen ist ein nicht besonders ausführlicher Docstring gegeben. Finden Sie durch geeignete Aufrufe heraus, was die Funktionen machen.\n",
    "\n",
    "*Hinweis:* Die Funktion `help` liefert den Docstring einer Funktion als String zurück. Das erste Beispiel zeigt, wie help genutzt werden kann, um den Docstring auszugeben."
   ]
  },
  {
   "cell_type": "code",
   "execution_count": null,
   "metadata": {
    "tags": []
   },
   "outputs": [],
   "source": [
    "from custom_functions import function1\n",
    "\n",
    "print(help(function1))\n",
    "\n",
    "..."
   ]
  },
  {
   "cell_type": "code",
   "execution_count": null,
   "metadata": {
    "tags": []
   },
   "outputs": [],
   "source": [
    "from custom_functions import function2\n",
    "\n",
    "..."
   ]
  },
  {
   "cell_type": "code",
   "execution_count": null,
   "metadata": {
    "tags": []
   },
   "outputs": [],
   "source": [
    "from custom_functions import function3\n",
    "\n",
    "..."
   ]
  },
  {
   "cell_type": "code",
   "execution_count": null,
   "metadata": {
    "tags": []
   },
   "outputs": [],
   "source": [
    "from custom_functions import function4\n",
    "\n",
    "..."
   ]
  },
  {
   "cell_type": "code",
   "execution_count": null,
   "metadata": {
    "tags": []
   },
   "outputs": [],
   "source": [
    "from custom_functions import function5\n",
    "\n",
    "..."
   ]
  },
  {
   "cell_type": "code",
   "execution_count": null,
   "metadata": {
    "tags": []
   },
   "outputs": [],
   "source": [
    "from custom_functions import function6\n",
    "\n",
    "..."
   ]
  },
  {
   "cell_type": "markdown",
   "metadata": {
    "deletable": false,
    "editable": false
   },
   "source": [
    "### Aufgabe 2 - Rechteckfunktion\n",
    "\n",
    "Gegeben ist der zu Beginn der Vorlesung besprochenen Code. Vereinfachen Sie diesen Code mit Hilfe einer Funktion. Überlegen Sie sich hierfür zu erst \n",
    "\n",
    "* einen passenden Namen für die Funktion\n",
    "* welche Übergabeparameter notwendig sind \n",
    "* die Namen der Übergabeparameter\n",
    "* was die Funktion zurückliefern soll\n",
    "\n",
    "Programmieren Sie dann die Funktion und die Funktionsaufrufe zusammen in einer eigenen Zelle, sodass der neue Code die gleiche Funktionalität mit Hilfe der Funktion löst."
   ]
  },
  {
   "cell_type": "code",
   "execution_count": null,
   "metadata": {
    "tags": []
   },
   "outputs": [],
   "source": [
    "a1 = 4\n",
    "b1 = 10\n",
    "area_rectangle1 = a1 * b1\n",
    "circumference1 = 2 * a1 + 2 * b1\n",
    "print(f\"Kantenlängen: {a1} und {b1}. Fläche: {area_rectangle1}. Umfang: {circumference1}\")\n",
    "\n",
    "a2 = 2\n",
    "b2 = 5\n",
    "area_rectangle2 = a2 * b2\n",
    "circumference2 = 2 * a2 + 2 * b2\n",
    "print(f\"Kantenlängen: {a2} und {b2}. Fläche: {area_rectangle2}. Umfang: {circumference2}\")\n",
    "\n",
    "a3 = 3\n",
    "b3 = 8\n",
    "area_rectangle3 = a3 * b3\n",
    "circumference3 = 2 * a3 + 2 * b3 \n",
    "print(f\"Kantenlängen: {a3} und {b3}. Fläche: {area_rectangle3}. Umfang: {circumference3}\")"
   ]
  },
  {
   "cell_type": "code",
   "execution_count": null,
   "metadata": {
    "tags": []
   },
   "outputs": [],
   "source": [
    "\n",
    "..."
   ]
  },
  {
   "cell_type": "markdown",
   "metadata": {},
   "source": [
    "***"
   ]
  },
  {
   "cell_type": "markdown",
   "metadata": {
    "deletable": false,
    "editable": false
   },
   "source": [
    "### Aufgabe 3 - Zeichen um Zeichen\n",
    "\n",
    "Schreiben Sie eine Funktion namens `print_characters`, die ein gewünschtes Zeichen n-Mal ausgibt.\n",
    "\n",
    "* Wird die Funktion ohne Parameter aufgerufen, soll die Funktion 5 Mal das Zeichen `#` ausgeben.\n",
    "* Wir die Funktion nur mit einem Parameter `n` aufgerufen, soll die Funktion das Zeichen `#` n-Mal ausgeben.\n",
    "* Wird die Funktion mit einem Parameter `n` und einem Parameter `c` aufgerufen, soll die Funktion das Zeichen `c` `n`-Mal ausgeben.\n",
    "\n",
    "Nutzen Sie in Ihrer Implementierung Default-Parameter."
   ]
  },
  {
   "cell_type": "code",
   "execution_count": null,
   "metadata": {
    "tags": []
   },
   "outputs": [],
   "source": [
    "...\n",
    "\n",
    "print_characters()       # Soll ##### ausgeben\n",
    "print_characters(2)      # Soll ## ausgeben\n",
    "print_characters(3, \"b\") # Soll bbb ausgeben"
   ]
  },
  {
   "cell_type": "markdown",
   "metadata": {},
   "source": [
    "***"
   ]
  },
  {
   "cell_type": "markdown",
   "metadata": {},
   "source": [
    "### Aufgabe 4 - Ich zähle jetzt bis drei...\n",
    "\n",
    "Lesen Sie sich den Docstring der Funktion `range()` durch und erzeugen Sie mit Hilfe der `range()`-Funktion die unten gewünschten Zahlenfolgen.\n",
    "\n",
    "*Hinweis:* Mit voranstellen des `*` können Sie die Liste entpacken und dann den Inhalt mit `print` ausgeben, wie folgendes Beispiel zeigt."
   ]
  },
  {
   "cell_type": "code",
   "execution_count": null,
   "metadata": {},
   "outputs": [],
   "source": [
    "print(*range(5))"
   ]
  },
  {
   "cell_type": "code",
   "execution_count": null,
   "metadata": {
    "tags": []
   },
   "outputs": [],
   "source": [
    "# 0, 1, 2\n",
    "..."
   ]
  },
  {
   "cell_type": "code",
   "execution_count": null,
   "metadata": {
    "tags": []
   },
   "outputs": [],
   "source": [
    "# 1, 2, 3, 4, 5\n",
    "..."
   ]
  },
  {
   "cell_type": "code",
   "execution_count": null,
   "metadata": {
    "tags": []
   },
   "outputs": [],
   "source": [
    "# 2, 4, 6, 8, 10, 12\n",
    "..."
   ]
  },
  {
   "cell_type": "code",
   "execution_count": null,
   "metadata": {
    "tags": []
   },
   "outputs": [],
   "source": [
    "# 3, 2, 1\n",
    "..."
   ]
  }
 ],
 "metadata": {
  "kernelspec": {
   "display_name": "Python 3",
   "language": "python",
   "name": "python3"
  },
  "language_info": {
   "codemirror_mode": {
    "name": "ipython",
    "version": 3
   },
   "file_extension": ".py",
   "mimetype": "text/x-python",
   "name": "python",
   "nbconvert_exporter": "python",
   "pygments_lexer": "ipython3",
   "version": "3.10.12"
  },
  "otter": {
   "OK_FORMAT": false,
   "assignment_name": "09_funktionen",
   "tests": {}
  }
 },
 "nbformat": 4,
 "nbformat_minor": 2
}
